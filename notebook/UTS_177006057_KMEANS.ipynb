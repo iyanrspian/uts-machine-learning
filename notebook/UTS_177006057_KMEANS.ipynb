{
 "cells": [
  {
   "cell_type": "markdown",
   "metadata": {
    "id": "QgDtaMGkRt0-"
   },
   "source": [
    "**N-03 KMEANS CLUSTERING**\n",
    "\n",
    " - Klusterisasi data fisik pasar\n",
    " - Sumber dataset dari ***Open Data Bantul***"
   ]
  },
  {
   "cell_type": "code",
   "execution_count": 1,
   "metadata": {
    "id": "cruA6--NRlNA"
   },
   "outputs": [],
   "source": [
    "# Import library\n",
    "import numpy as np\n",
    "import pandas as pd\n",
    "import matplotlib.pyplot as plt"
   ]
  },
  {
   "cell_type": "code",
   "execution_count": 2,
   "metadata": {},
   "outputs": [
    {
     "data": {
      "text/html": [
       "<div>\n",
       "<style scoped>\n",
       "    .dataframe tbody tr th:only-of-type {\n",
       "        vertical-align: middle;\n",
       "    }\n",
       "\n",
       "    .dataframe tbody tr th {\n",
       "        vertical-align: top;\n",
       "    }\n",
       "\n",
       "    .dataframe thead th {\n",
       "        text-align: right;\n",
       "    }\n",
       "</style>\n",
       "<table border=\"1\" class=\"dataframe\">\n",
       "  <thead>\n",
       "    <tr style=\"text-align: right;\">\n",
       "      <th></th>\n",
       "      <th>nama_pasar;luas_tanah_(m2);status_tanah;luas_bangunan_(m2);kios_(unit);los_(unit);kantor_unit;mck;bongkar_muat;bak_sampah;tempat_ibadah;hydrant;apar_(unit);pos_satpam;kios;los;arahan</th>\n",
       "    </tr>\n",
       "  </thead>\n",
       "  <tbody>\n",
       "    <tr>\n",
       "      <th>0</th>\n",
       "      <td>Bantul;23714;Pemda;17719;281;51;ada;6;1;40;1;3...</td>\n",
       "    </tr>\n",
       "    <tr>\n",
       "      <th>1</th>\n",
       "      <td>Niten;25835;KD&amp; pemda;18036;119;13;ada;2;6;25;...</td>\n",
       "    </tr>\n",
       "    <tr>\n",
       "      <th>2</th>\n",
       "      <td>Klitikan Niten;10800;KD;3000;0;5;ada;1;0;2;1;0...</td>\n",
       "    </tr>\n",
       "    <tr>\n",
       "      <th>3</th>\n",
       "      <td>Janten;1020;Pemda;900;0;1;Tidak;2;1;12;0;0;1;0...</td>\n",
       "    </tr>\n",
       "    <tr>\n",
       "      <th>4</th>\n",
       "      <td>Piyungan;20068;Pemda;18400;85;22;ada;2;1;50;2;...</td>\n",
       "    </tr>\n",
       "  </tbody>\n",
       "</table>\n",
       "</div>"
      ],
      "text/plain": [
       "  nama_pasar;luas_tanah_(m2);status_tanah;luas_bangunan_(m2);kios_(unit);los_(unit);kantor_unit;mck;bongkar_muat;bak_sampah;tempat_ibadah;hydrant;apar_(unit);pos_satpam;kios;los;arahan\n",
       "0  Bantul;23714;Pemda;17719;281;51;ada;6;1;40;1;3...                                                                                                                                    \n",
       "1  Niten;25835;KD& pemda;18036;119;13;ada;2;6;25;...                                                                                                                                    \n",
       "2  Klitikan Niten;10800;KD;3000;0;5;ada;1;0;2;1;0...                                                                                                                                    \n",
       "3  Janten;1020;Pemda;900;0;1;Tidak;2;1;12;0;0;1;0...                                                                                                                                    \n",
       "4  Piyungan;20068;Pemda;18400;85;22;ada;2;1;50;2;...                                                                                                                                    "
      ]
     },
     "execution_count": 2,
     "metadata": {},
     "output_type": "execute_result"
    }
   ],
   "source": [
    "link = 'https://raw.githubusercontent.com/iyanrspian/uts-machine-learning/main/data-fisik-pasar.csv'\n",
    "data = pd.read_csv(link)\n",
    "data.head()"
   ]
  },
  {
   "cell_type": "code",
   "execution_count": null,
   "metadata": {},
   "outputs": [],
   "source": []
  }
 ],
 "metadata": {
  "colab": {
   "collapsed_sections": [],
   "name": "UTS_177006057_KMEANS.ipynb",
   "private_outputs": true,
   "provenance": []
  },
  "kernelspec": {
   "display_name": "Python 3",
   "language": "python",
   "name": "python3"
  },
  "language_info": {
   "codemirror_mode": {
    "name": "ipython",
    "version": 3
   },
   "file_extension": ".py",
   "mimetype": "text/x-python",
   "name": "python",
   "nbconvert_exporter": "python",
   "pygments_lexer": "ipython3",
   "version": "3.7.9"
  }
 },
 "nbformat": 4,
 "nbformat_minor": 4
}
