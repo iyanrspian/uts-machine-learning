{
  "nbformat": 4,
  "nbformat_minor": 0,
  "metadata": {
    "colab": {
      "name": "UTS_177006057_SLR.ipynb",
      "provenance": [],
      "collapsed_sections": []
    },
    "kernelspec": {
      "name": "python3",
      "display_name": "Python 3"
    }
  },
  "cells": [
    {
      "cell_type": "markdown",
      "metadata": {
        "id": "uzEfI-JFuieg"
      },
      "source": [
        "**N-01 LINEAR REGRESSION (SLR AND MLR)**\n",
        "\n",
        " - Prediksi kematian selama pengobatan\n",
        " - Sumber dataset dari ***Open Data Bantul***"
      ]
    },
    {
      "cell_type": "code",
      "metadata": {
        "id": "k7loG7R-atvQ"
      },
      "source": [
        "# Import library\n",
        "import numpy as np\n",
        "import pandas as pd\n",
        "import matplotlib.pyplot as plt"
      ],
      "execution_count": 1,
      "outputs": []
    },
    {
      "cell_type": "code",
      "metadata": {
        "id": "Qh2bmq_QbYZz",
        "colab": {
          "base_uri": "https://localhost:8080/",
          "height": 195
        },
        "outputId": "639de989-e679-4964-feaa-c74df8021be8"
      },
      "source": [
        "# Import dataset\n",
        "link = 'https://raw.githubusercontent.com/iyanrspian/uts-machine-learning/main/cure-success-rate-tb.csv'\n",
        "data = pd.read_csv(link)\n",
        "data.head()"
      ],
      "execution_count": 2,
      "outputs": [
        {
          "output_type": "execute_result",
          "data": {
            "text/html": [
              "<div>\n",
              "<style scoped>\n",
              "    .dataframe tbody tr th:only-of-type {\n",
              "        vertical-align: middle;\n",
              "    }\n",
              "\n",
              "    .dataframe tbody tr th {\n",
              "        vertical-align: top;\n",
              "    }\n",
              "\n",
              "    .dataframe thead th {\n",
              "        text-align: right;\n",
              "    }\n",
              "</style>\n",
              "<table border=\"1\" class=\"dataframe\">\n",
              "  <thead>\n",
              "    <tr style=\"text-align: right;\">\n",
              "      <th></th>\n",
              "      <th>puskesmas</th>\n",
              "      <th>kecamatan</th>\n",
              "      <th>cure_rate</th>\n",
              "      <th>succese_rate</th>\n",
              "      <th>kematian_selama_pengobatan</th>\n",
              "    </tr>\n",
              "  </thead>\n",
              "  <tbody>\n",
              "    <tr>\n",
              "      <th>0</th>\n",
              "      <td>Srandakan</td>\n",
              "      <td>SRANDAKAN</td>\n",
              "      <td>60</td>\n",
              "      <td>60</td>\n",
              "      <td>1</td>\n",
              "    </tr>\n",
              "    <tr>\n",
              "      <th>1</th>\n",
              "      <td>Sanden</td>\n",
              "      <td>SANDEN</td>\n",
              "      <td>75</td>\n",
              "      <td>75</td>\n",
              "      <td>1</td>\n",
              "    </tr>\n",
              "    <tr>\n",
              "      <th>2</th>\n",
              "      <td>Kretek</td>\n",
              "      <td>KRETEK</td>\n",
              "      <td>100</td>\n",
              "      <td>100</td>\n",
              "      <td>0</td>\n",
              "    </tr>\n",
              "    <tr>\n",
              "      <th>3</th>\n",
              "      <td>Pundong</td>\n",
              "      <td>PUNDONG</td>\n",
              "      <td>70</td>\n",
              "      <td>70</td>\n",
              "      <td>1</td>\n",
              "    </tr>\n",
              "    <tr>\n",
              "      <th>4</th>\n",
              "      <td>Bambanglipuro</td>\n",
              "      <td>BAMBANGLIPURO</td>\n",
              "      <td>80</td>\n",
              "      <td>80</td>\n",
              "      <td>1</td>\n",
              "    </tr>\n",
              "  </tbody>\n",
              "</table>\n",
              "</div>"
            ],
            "text/plain": [
              "       puskesmas      kecamatan  ...  succese_rate  kematian_selama_pengobatan\n",
              "0      Srandakan      SRANDAKAN  ...            60                           1\n",
              "1         Sanden         SANDEN  ...            75                           1\n",
              "2         Kretek         KRETEK  ...           100                           0\n",
              "3        Pundong        PUNDONG  ...            70                           1\n",
              "4  Bambanglipuro  BAMBANGLIPURO  ...            80                           1\n",
              "\n",
              "[5 rows x 5 columns]"
            ]
          },
          "metadata": {
            "tags": []
          },
          "execution_count": 2
        }
      ]
    },
    {
      "cell_type": "code",
      "metadata": {
        "id": "ixRFAsinlLZy",
        "colab": {
          "base_uri": "https://localhost:8080/",
          "height": 195
        },
        "outputId": "a5392f11-e8c4-4a0e-aa5b-3879879fad8b"
      },
      "source": [
        "# Update dataset yang akan diperlukan saja\n",
        "data_update = pd.read_csv(link, usecols=['cure_rate', 'succese_rate'])\n",
        "data_update.head()"
      ],
      "execution_count": 3,
      "outputs": [
        {
          "output_type": "execute_result",
          "data": {
            "text/html": [
              "<div>\n",
              "<style scoped>\n",
              "    .dataframe tbody tr th:only-of-type {\n",
              "        vertical-align: middle;\n",
              "    }\n",
              "\n",
              "    .dataframe tbody tr th {\n",
              "        vertical-align: top;\n",
              "    }\n",
              "\n",
              "    .dataframe thead th {\n",
              "        text-align: right;\n",
              "    }\n",
              "</style>\n",
              "<table border=\"1\" class=\"dataframe\">\n",
              "  <thead>\n",
              "    <tr style=\"text-align: right;\">\n",
              "      <th></th>\n",
              "      <th>cure_rate</th>\n",
              "      <th>succese_rate</th>\n",
              "    </tr>\n",
              "  </thead>\n",
              "  <tbody>\n",
              "    <tr>\n",
              "      <th>0</th>\n",
              "      <td>60</td>\n",
              "      <td>60</td>\n",
              "    </tr>\n",
              "    <tr>\n",
              "      <th>1</th>\n",
              "      <td>75</td>\n",
              "      <td>75</td>\n",
              "    </tr>\n",
              "    <tr>\n",
              "      <th>2</th>\n",
              "      <td>100</td>\n",
              "      <td>100</td>\n",
              "    </tr>\n",
              "    <tr>\n",
              "      <th>3</th>\n",
              "      <td>70</td>\n",
              "      <td>70</td>\n",
              "    </tr>\n",
              "    <tr>\n",
              "      <th>4</th>\n",
              "      <td>80</td>\n",
              "      <td>80</td>\n",
              "    </tr>\n",
              "  </tbody>\n",
              "</table>\n",
              "</div>"
            ],
            "text/plain": [
              "   cure_rate  succese_rate\n",
              "0         60            60\n",
              "1         75            75\n",
              "2        100           100\n",
              "3         70            70\n",
              "4         80            80"
            ]
          },
          "metadata": {
            "tags": []
          },
          "execution_count": 3
        }
      ]
    },
    {
      "cell_type": "code",
      "metadata": {
        "id": "txjxNup1e_SA"
      },
      "source": [
        "# Membuat variabel X, y dan split data (training & testing) dengan porsi 80:20\n",
        "from sklearn.model_selection import train_test_split\n",
        "\n",
        "X = data_update['cure_rate'].values.reshape(-1,1)\n",
        "y = data_update['succese_rate'].values.reshape(-1,1)\n",
        "X_train, X_test, y_train, y_test = train_test_split(X, y, test_size = 0.2)"
      ],
      "execution_count": 4,
      "outputs": []
    },
    {
      "cell_type": "code",
      "metadata": {
        "id": "L8Wd8xXxmY8n",
        "colab": {
          "base_uri": "https://localhost:8080/"
        },
        "outputId": "654cf054-e2f6-45d1-8488-a38b9aef2033"
      },
      "source": [
        "# Menghitung mean, standard deviation dan variance\n",
        "data_result = data_update.describe().loc[['mean', 'std']]\n",
        "data_result.loc['variance'] = data_result.loc['std']**2\n",
        "print(data_result)"
      ],
      "execution_count": 5,
      "outputs": [
        {
          "output_type": "stream",
          "text": [
            "           cure_rate  succese_rate\n",
            "mean       82.851852     79.962963\n",
            "std        15.822826     18.984774\n",
            "variance  250.361823    360.421652\n"
          ],
          "name": "stdout"
        }
      ]
    },
    {
      "cell_type": "code",
      "metadata": {
        "id": "lh0t7jXhmr4i",
        "colab": {
          "base_uri": "https://localhost:8080/"
        },
        "outputId": "e298c917-f481-49bc-f7ec-752e3ebd5ba0"
      },
      "source": [
        "# Menghitung covariance dan coeffisient of correlation\n",
        "print(\"'Covariance'\\n\\n\", data_update.cov())\n",
        "print(\"\\n'Coeffisient of Correlation - Pearson Method'\\n\\n\", data_update.corr(method=\"pearson\"))"
      ],
      "execution_count": 6,
      "outputs": [
        {
          "output_type": "stream",
          "text": [
            "'Covariance'\n",
            "\n",
            "                cure_rate  succese_rate\n",
            "cure_rate     250.361823    260.763533\n",
            "succese_rate  260.763533    360.421652\n",
            "\n",
            "'Coeffisient of Correlation - Pearson Method'\n",
            "\n",
            "               cure_rate  succese_rate\n",
            "cure_rate      1.000000      0.868075\n",
            "succese_rate   0.868075      1.000000\n"
          ],
          "name": "stdout"
        }
      ]
    },
    {
      "cell_type": "code",
      "metadata": {
        "id": "uuyPFT6EgOVZ",
        "colab": {
          "base_uri": "https://localhost:8080/"
        },
        "outputId": "5d151dc6-334e-4779-f10f-fc92519285d7"
      },
      "source": [
        "# Membuat object Linear Regression dan Training Model\n",
        "from sklearn.linear_model import LinearRegression\n",
        "\n",
        "lin_reg = LinearRegression()\n",
        "lin_reg.fit(X_train, y_train)"
      ],
      "execution_count": 7,
      "outputs": [
        {
          "output_type": "execute_result",
          "data": {
            "text/plain": [
              "LinearRegression(copy_X=True, fit_intercept=True, n_jobs=None, normalize=False)"
            ]
          },
          "metadata": {
            "tags": []
          },
          "execution_count": 7
        }
      ]
    },
    {
      "cell_type": "code",
      "metadata": {
        "id": "3caaa3T4l7kb",
        "colab": {
          "base_uri": "https://localhost:8080/"
        },
        "outputId": "972be10c-ffe4-4148-a6cb-2b629cfd5c1d"
      },
      "source": [
        "# Mencari tahu nilai slope/koefisien (m) dan intercept (b)\n",
        "print(lin_reg.coef_)\n",
        "print(lin_reg.intercept_)"
      ],
      "execution_count": 8,
      "outputs": [
        {
          "output_type": "stream",
          "text": [
            "[[1.09252081]]\n",
            "[-11.74700221]\n"
          ],
          "name": "stdout"
        }
      ]
    },
    {
      "cell_type": "code",
      "metadata": {
        "id": "wQoWUwYnmE1O",
        "colab": {
          "base_uri": "https://localhost:8080/"
        },
        "outputId": "45519682-d701-49fb-e78c-36ad45f25cac"
      },
      "source": [
        "# Mencari tahu accuracy score dari model, menggunakan testing data yang sudah displit sebelumnya.\n",
        "accuracy = lin_reg.score(X_test, y_test)\n",
        "print(\"\\nAccuracy score :\", str(round(accuracy, 2)) + '%')"
      ],
      "execution_count": 9,
      "outputs": [
        {
          "output_type": "stream",
          "text": [
            "\n",
            "Accuracy score : 0.84%\n"
          ],
          "name": "stdout"
        }
      ]
    },
    {
      "cell_type": "code",
      "metadata": {
        "id": "I3sT9YsemKfo",
        "colab": {
          "base_uri": "https://localhost:8080/"
        },
        "outputId": "f62da4a2-d374-46c6-b59d-c3ee886c7314"
      },
      "source": [
        "# Prediksi dengan nilai cure_rate sebagai berikut\n",
        "print(\"[63] =\", lin_reg.predict([[63]]))\n",
        "print(\"[59] =\", lin_reg.predict([[59]]))\n",
        "print(\"[71] =\", lin_reg.predict([[71]]))"
      ],
      "execution_count": 10,
      "outputs": [
        {
          "output_type": "stream",
          "text": [
            "[63] = [[57.08180898]]\n",
            "[59] = [[52.71172573]]\n",
            "[71] = [[65.82197548]]\n"
          ],
          "name": "stdout"
        }
      ]
    },
    {
      "cell_type": "code",
      "metadata": {
        "id": "ieDVTOZsmR2B",
        "colab": {
          "base_uri": "https://localhost:8080/",
          "height": 295
        },
        "outputId": "3bf5c11d-df95-43d1-a784-442208b0b4c9"
      },
      "source": [
        "# Visualisasi (test set)\n",
        "y_predict = lin_reg.predict(X_test)\n",
        "plt.scatter(X_test, y_test)\n",
        "plt.plot(X_test, y_predict, color='red')\n",
        "plt.title('Cure & Success Rate TB (Test Set)')\n",
        "plt.xlabel('cure_rate')\n",
        "plt.ylabel('succese_rate')\n",
        "plt.show()"
      ],
      "execution_count": 11,
      "outputs": [
        {
          "output_type": "display_data",
          "data": {
            "image/png": "[encoded data removed]",
            "text/plain": [
              "<Figure size 432x288 with 1 Axes>"
            ]
          },
          "metadata": {
            "tags": [],
            "needs_background": "light"
          }
        }
      ]
    },
    {
      "cell_type": "code",
      "metadata": {
        "id": "thvsqve4nhvX",
        "colab": {
          "base_uri": "https://localhost:8080/",
          "height": 295
        },
        "outputId": "1e346376-ec42-47a0-f2c7-cd5a1ea7525d"
      },
      "source": [
        "# Visualisasi (train set)\n",
        "y_predict = lin_reg.predict(X_train)\n",
        "plt.scatter(X_train, y_train)\n",
        "plt.plot(X_train, y_predict, color='red')\n",
        "plt.title('Cure & Success Rate TB (Training Set)')\n",
        "plt.xlabel('cure_rate')\n",
        "plt.ylabel('succese_rate')\n",
        "plt.show()"
      ],
      "execution_count": 12,
      "outputs": [
        {
          "output_type": "display_data",
          "data": {
            "image/png": "[encoded data removed]",
            "text/plain": [
              "<Figure size 432x288 with 1 Axes>"
            ]
          },
          "metadata": {
            "tags": [],
            "needs_background": "light"
          }
        }
      ]
    }
  ]
}