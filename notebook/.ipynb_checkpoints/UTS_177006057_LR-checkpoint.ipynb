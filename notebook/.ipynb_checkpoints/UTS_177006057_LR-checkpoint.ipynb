{
 "cells": [
  {
   "cell_type": "markdown",
   "metadata": {
    "id": "uzEfI-JFuieg"
   },
   "source": [
    "**N-01 LINEAR REGRESSION (SLR AND MLR)**\n",
    "\n",
    " - Prediksi kematian selama pengobatan\n",
    " - Sumber dataset dari ***Open Data Bantul***"
   ]
  },
  {
   "cell_type": "code",
   "execution_count": 1,
   "metadata": {
    "id": "k7loG7R-atvQ"
   },
   "outputs": [],
   "source": [
    "# Import library\n",
    "import numpy as np\n",
    "import pandas as pd\n",
    "import matplotlib.pyplot as plt"
   ]
  },
  {
   "cell_type": "code",
   "execution_count": 2,
   "metadata": {
    "colab": {
     "base_uri": "https://localhost:8080/",
     "height": 195
    },
    "id": "Qh2bmq_QbYZz",
    "outputId": "639de989-e679-4964-feaa-c74df8021be8"
   },
   "outputs": [
    {
     "data": {
      "text/html": [
       "<div>\n",
       "<style scoped>\n",
       "    .dataframe tbody tr th:only-of-type {\n",
       "        vertical-align: middle;\n",
       "    }\n",
       "\n",
       "    .dataframe tbody tr th {\n",
       "        vertical-align: top;\n",
       "    }\n",
       "\n",
       "    .dataframe thead th {\n",
       "        text-align: right;\n",
       "    }\n",
       "</style>\n",
       "<table border=\"1\" class=\"dataframe\">\n",
       "  <thead>\n",
       "    <tr style=\"text-align: right;\">\n",
       "      <th></th>\n",
       "      <th>puskesmas</th>\n",
       "      <th>kecamatan</th>\n",
       "      <th>cure_rate</th>\n",
       "      <th>succese_rate</th>\n",
       "      <th>kematian_selama_pengobatan</th>\n",
       "    </tr>\n",
       "  </thead>\n",
       "  <tbody>\n",
       "    <tr>\n",
       "      <th>0</th>\n",
       "      <td>Srandakan</td>\n",
       "      <td>SRANDAKAN</td>\n",
       "      <td>60</td>\n",
       "      <td>60</td>\n",
       "      <td>1</td>\n",
       "    </tr>\n",
       "    <tr>\n",
       "      <th>1</th>\n",
       "      <td>Sanden</td>\n",
       "      <td>SANDEN</td>\n",
       "      <td>75</td>\n",
       "      <td>75</td>\n",
       "      <td>1</td>\n",
       "    </tr>\n",
       "    <tr>\n",
       "      <th>2</th>\n",
       "      <td>Kretek</td>\n",
       "      <td>KRETEK</td>\n",
       "      <td>100</td>\n",
       "      <td>100</td>\n",
       "      <td>0</td>\n",
       "    </tr>\n",
       "    <tr>\n",
       "      <th>3</th>\n",
       "      <td>Pundong</td>\n",
       "      <td>PUNDONG</td>\n",
       "      <td>70</td>\n",
       "      <td>70</td>\n",
       "      <td>1</td>\n",
       "    </tr>\n",
       "    <tr>\n",
       "      <th>4</th>\n",
       "      <td>Bambanglipuro</td>\n",
       "      <td>BAMBANGLIPURO</td>\n",
       "      <td>80</td>\n",
       "      <td>80</td>\n",
       "      <td>1</td>\n",
       "    </tr>\n",
       "  </tbody>\n",
       "</table>\n",
       "</div>"
      ],
      "text/plain": [
       "       puskesmas      kecamatan  cure_rate  succese_rate  \\\n",
       "0      Srandakan      SRANDAKAN         60            60   \n",
       "1         Sanden         SANDEN         75            75   \n",
       "2         Kretek         KRETEK        100           100   \n",
       "3        Pundong        PUNDONG         70            70   \n",
       "4  Bambanglipuro  BAMBANGLIPURO         80            80   \n",
       "\n",
       "   kematian_selama_pengobatan  \n",
       "0                           1  \n",
       "1                           1  \n",
       "2                           0  \n",
       "3                           1  \n",
       "4                           1  "
      ]
     },
     "execution_count": 2,
     "metadata": {},
     "output_type": "execute_result"
    }
   ],
   "source": [
    "# Import dataset\n",
    "link = 'https://raw.githubusercontent.com/iyanrspian/uts-machine-learning/main/cure-success-rate-tb.csv'\n",
    "data = pd.read_csv(link)\n",
    "data.head()"
   ]
  },
  {
   "cell_type": "markdown",
   "metadata": {},
   "source": [
    "A. Simple Linear Regresion"
   ]
  },
  {
   "cell_type": "code",
   "execution_count": 3,
   "metadata": {
    "colab": {
     "base_uri": "https://localhost:8080/",
     "height": 195
    },
    "id": "ixRFAsinlLZy",
    "outputId": "a5392f11-e8c4-4a0e-aa5b-3879879fad8b"
   },
   "outputs": [
    {
     "data": {
      "text/html": [
       "<div>\n",
       "<style scoped>\n",
       "    .dataframe tbody tr th:only-of-type {\n",
       "        vertical-align: middle;\n",
       "    }\n",
       "\n",
       "    .dataframe tbody tr th {\n",
       "        vertical-align: top;\n",
       "    }\n",
       "\n",
       "    .dataframe thead th {\n",
       "        text-align: right;\n",
       "    }\n",
       "</style>\n",
       "<table border=\"1\" class=\"dataframe\">\n",
       "  <thead>\n",
       "    <tr style=\"text-align: right;\">\n",
       "      <th></th>\n",
       "      <th>succese_rate</th>\n",
       "      <th>kematian_selama_pengobatan</th>\n",
       "    </tr>\n",
       "  </thead>\n",
       "  <tbody>\n",
       "    <tr>\n",
       "      <th>22</th>\n",
       "      <td>57</td>\n",
       "      <td>78</td>\n",
       "    </tr>\n",
       "    <tr>\n",
       "      <th>23</th>\n",
       "      <td>89</td>\n",
       "      <td>88</td>\n",
       "    </tr>\n",
       "    <tr>\n",
       "      <th>24</th>\n",
       "      <td>100</td>\n",
       "      <td>0</td>\n",
       "    </tr>\n",
       "    <tr>\n",
       "      <th>25</th>\n",
       "      <td>100</td>\n",
       "      <td>0</td>\n",
       "    </tr>\n",
       "    <tr>\n",
       "      <th>26</th>\n",
       "      <td>100</td>\n",
       "      <td>0</td>\n",
       "    </tr>\n",
       "  </tbody>\n",
       "</table>\n",
       "</div>"
      ],
      "text/plain": [
       "    succese_rate  kematian_selama_pengobatan\n",
       "22            57                          78\n",
       "23            89                          88\n",
       "24           100                           0\n",
       "25           100                           0\n",
       "26           100                           0"
      ]
     },
     "execution_count": 3,
     "metadata": {},
     "output_type": "execute_result"
    }
   ],
   "source": [
    "# Update dataset yang akan diperlukan saja untuk SLR\n",
    "data_slr = pd.read_csv(link, usecols=['succese_rate', 'kematian_selama_pengobatan'])\n",
    "data_slr.tail()"
   ]
  },
  {
   "cell_type": "code",
   "execution_count": 4,
   "metadata": {
    "id": "txjxNup1e_SA"
   },
   "outputs": [
    {
     "data": {
      "text/plain": [
       "LinearRegression()"
      ]
     },
     "execution_count": 4,
     "metadata": {},
     "output_type": "execute_result"
    }
   ],
   "source": [
    "# Membuat variabel X, y dan split data (training & testing) dengan porsi 80:20\n",
    "from sklearn.linear_model import LinearRegression\n",
    "from sklearn.model_selection import train_test_split\n",
    "\n",
    "X = data_slr['succese_rate'].values.reshape(-1,1)\n",
    "y = data_slr['kematian_selama_pengobatan'].values.reshape(-1,1)\n",
    "X_train, X_test, y_train, y_test = train_test_split(X, y, test_size = 0.2)\n",
    "\n",
    "# Membuat object Linear Regression dan Training Model\n",
    "lin_reg = LinearRegression()\n",
    "lin_reg.fit(X_train, y_train)"
   ]
  },
  {
   "cell_type": "code",
   "execution_count": 5,
   "metadata": {
    "colab": {
     "base_uri": "https://localhost:8080/"
    },
    "id": "L8Wd8xXxmY8n",
    "outputId": "654cf054-e2f6-45d1-8488-a38b9aef2033"
   },
   "outputs": [
    {
     "name": "stdout",
     "output_type": "stream",
     "text": [
      "          succese_rate  kematian_selama_pengobatan\n",
      "mean         79.962963                   37.444444\n",
      "std          18.984774                   39.998397\n",
      "variance    360.421652                 1599.871795\n"
     ]
    }
   ],
   "source": [
    "# Menghitung mean, standard deviation dan variance\n",
    "result_slr = data_slr.describe().loc[['mean', 'std']]\n",
    "result_slr.loc['variance'] = result_slr.loc['std']**2\n",
    "print(result_slr)"
   ]
  },
  {
   "cell_type": "code",
   "execution_count": 6,
   "metadata": {
    "colab": {
     "base_uri": "https://localhost:8080/"
    },
    "id": "lh0t7jXhmr4i",
    "outputId": "e298c917-f481-49bc-f7ec-752e3ebd5ba0"
   },
   "outputs": [
    {
     "name": "stdout",
     "output_type": "stream",
     "text": [
      "'Covariance'\n",
      "\n",
      "                             succese_rate  kematian_selama_pengobatan\n",
      "succese_rate                  360.421652                 -445.482906\n",
      "kematian_selama_pengobatan   -445.482906                 1599.871795\n",
      "\n",
      "'Coeffisient of Correlation - Pearson Method'\n",
      "\n",
      "                             succese_rate  kematian_selama_pengobatan\n",
      "succese_rate                    1.000000                   -0.586655\n",
      "kematian_selama_pengobatan     -0.586655                    1.000000\n"
     ]
    }
   ],
   "source": [
    "# Menghitung covariance dan coeffisient of correlation\n",
    "print(\"'Covariance'\\n\\n\", data_slr.cov())\n",
    "print(\"\\n'Coeffisient of Correlation - Pearson Method'\\n\\n\", data_slr.corr(method=\"pearson\"))"
   ]
  },
  {
   "cell_type": "code",
   "execution_count": 7,
   "metadata": {
    "colab": {
     "base_uri": "https://localhost:8080/"
    },
    "id": "3caaa3T4l7kb",
    "outputId": "972be10c-ffe4-4148-a6cb-2b629cfd5c1d"
   },
   "outputs": [
    {
     "name": "stdout",
     "output_type": "stream",
     "text": [
      "[[-0.99495982]]\n",
      "[116.3589301]\n"
     ]
    }
   ],
   "source": [
    "# Mencari tahu nilai slope/koefisien (m) dan intercept (b)\n",
    "print(lin_reg.coef_)\n",
    "print(lin_reg.intercept_)"
   ]
  },
  {
   "cell_type": "code",
   "execution_count": 8,
   "metadata": {
    "colab": {
     "base_uri": "https://localhost:8080/"
    },
    "id": "wQoWUwYnmE1O",
    "outputId": "45519682-d701-49fb-e78c-36ad45f25cac"
   },
   "outputs": [
    {
     "name": "stdout",
     "output_type": "stream",
     "text": [
      "\n",
      "Accuracy score : 73.0%\n"
     ]
    }
   ],
   "source": [
    "# Mencari tahu accuracy score dari model, menggunakan testing data yang sudah displit sebelumnya.\n",
    "accuracy = lin_reg.score(X_test, y_test)\n",
    "print(\"\\nAccuracy score :\", str(round(accuracy, 2)*100) + '%')"
   ]
  },
  {
   "cell_type": "code",
   "execution_count": 9,
   "metadata": {
    "colab": {
     "base_uri": "https://localhost:8080/"
    },
    "id": "I3sT9YsemKfo",
    "outputId": "f62da4a2-d374-46c6-b59d-c3ee886c7314"
   },
   "outputs": [
    {
     "name": "stdout",
     "output_type": "stream",
     "text": [
      "[63] = [[53.67646165]]\n",
      "[59] = [[57.65630092]]\n",
      "[71] = [[45.71678312]]\n"
     ]
    }
   ],
   "source": [
    "# Prediksi dengan nilai cure_rate sebagai berikut\n",
    "print(\"[63] =\", lin_reg.predict([[63]]))\n",
    "print(\"[59] =\", lin_reg.predict([[59]]))\n",
    "print(\"[71] =\", lin_reg.predict([[71]]))"
   ]
  },
  {
   "cell_type": "code",
   "execution_count": 10,
   "metadata": {
    "colab": {
     "base_uri": "https://localhost:8080/",
     "height": 295
    },
    "id": "thvsqve4nhvX",
    "outputId": "1e346376-ec42-47a0-f2c7-cd5a1ea7525d"
   },
   "outputs": [
    {
     "data": {
      "image/png": "[encoded data removed]",
      "text/plain": [
       "<Figure size 432x288 with 1 Axes>"
      ]
     },
     "metadata": {
      "needs_background": "light"
     },
     "output_type": "display_data"
    }
   ],
   "source": [
    "# Visualisasi (train set)\n",
    "y_predict = lin_reg.predict(X_train)\n",
    "plt.scatter(X_train, y_train)\n",
    "plt.plot(X_train, y_predict, color='red')\n",
    "plt.title('Rasio kematian karena TB (Training Set)')\n",
    "plt.xlabel('succese_rate')\n",
    "plt.ylabel('kematian_selama_pengobatan')\n",
    "plt.show()"
   ]
  },
  {
   "cell_type": "code",
   "execution_count": 11,
   "metadata": {},
   "outputs": [
    {
     "data": {
      "image/png": "[encoded data removed]",
      "text/plain": [
       "<Figure size 432x288 with 1 Axes>"
      ]
     },
     "metadata": {
      "needs_background": "light"
     },
     "output_type": "display_data"
    }
   ],
   "source": [
    "# Visualisasi (test set)\n",
    "y_predict = lin_reg.predict(X_test)\n",
    "plt.scatter(X_test, y_test)\n",
    "plt.plot(X_test, y_predict, color='red')\n",
    "plt.title('Rasio kematian karena TB (Test Set)')\n",
    "plt.xlabel('succese_rate')\n",
    "plt.ylabel('kematian_selama_pengobatan')\n",
    "plt.show()"
   ]
  },
  {
   "cell_type": "markdown",
   "metadata": {},
   "source": [
    "B. Multiple Linear Regression"
   ]
  },
  {
   "cell_type": "code",
   "execution_count": 12,
   "metadata": {},
   "outputs": [
    {
     "data": {
      "text/html": [
       "<div>\n",
       "<style scoped>\n",
       "    .dataframe tbody tr th:only-of-type {\n",
       "        vertical-align: middle;\n",
       "    }\n",
       "\n",
       "    .dataframe tbody tr th {\n",
       "        vertical-align: top;\n",
       "    }\n",
       "\n",
       "    .dataframe thead th {\n",
       "        text-align: right;\n",
       "    }\n",
       "</style>\n",
       "<table border=\"1\" class=\"dataframe\">\n",
       "  <thead>\n",
       "    <tr style=\"text-align: right;\">\n",
       "      <th></th>\n",
       "      <th>cure_rate</th>\n",
       "      <th>succese_rate</th>\n",
       "      <th>kematian_selama_pengobatan</th>\n",
       "    </tr>\n",
       "  </thead>\n",
       "  <tbody>\n",
       "    <tr>\n",
       "      <th>0</th>\n",
       "      <td>60</td>\n",
       "      <td>60</td>\n",
       "      <td>1</td>\n",
       "    </tr>\n",
       "    <tr>\n",
       "      <th>1</th>\n",
       "      <td>75</td>\n",
       "      <td>75</td>\n",
       "      <td>1</td>\n",
       "    </tr>\n",
       "    <tr>\n",
       "      <th>2</th>\n",
       "      <td>100</td>\n",
       "      <td>100</td>\n",
       "      <td>0</td>\n",
       "    </tr>\n",
       "    <tr>\n",
       "      <th>3</th>\n",
       "      <td>70</td>\n",
       "      <td>70</td>\n",
       "      <td>1</td>\n",
       "    </tr>\n",
       "    <tr>\n",
       "      <th>4</th>\n",
       "      <td>80</td>\n",
       "      <td>80</td>\n",
       "      <td>1</td>\n",
       "    </tr>\n",
       "  </tbody>\n",
       "</table>\n",
       "</div>"
      ],
      "text/plain": [
       "   cure_rate  succese_rate  kematian_selama_pengobatan\n",
       "0         60            60                           1\n",
       "1         75            75                           1\n",
       "2        100           100                           0\n",
       "3         70            70                           1\n",
       "4         80            80                           1"
      ]
     },
     "execution_count": 12,
     "metadata": {},
     "output_type": "execute_result"
    }
   ],
   "source": [
    "# Update dataset yang akan diperlukan saja untuk MLR\n",
    "data_mlr = pd.read_csv(link, usecols=['cure_rate', 'succese_rate', 'kematian_selama_pengobatan'])\n",
    "data_mlr.head()"
   ]
  },
  {
   "cell_type": "code",
   "execution_count": 13,
   "metadata": {},
   "outputs": [],
   "source": [
    "# Menentukan variabel x,y dan splitting dataset menjadi train dan test set (80:20)\n",
    "Xs = data_mlr[['cure_rate', 'succese_rate']].values\n",
    "ys = data_mlr['kematian_selama_pengobatan'].values\n",
    "Xs_train, Xs_test, ys_train, ys_test = train_test_split(Xs, ys, test_size = 0.2)"
   ]
  },
  {
   "cell_type": "code",
   "execution_count": 14,
   "metadata": {},
   "outputs": [
    {
     "name": "stdout",
     "output_type": "stream",
     "text": [
      "[[ 60  60]\n",
      " [ 75  75]\n",
      " [100 100]\n",
      " [ 70  70]\n",
      " [ 80  80]\n",
      " [100 100]\n",
      " [100 100]\n",
      " [ 72  73]\n",
      " [ 77  78]\n",
      " [ 95  65]\n",
      " [100 100]\n",
      " [ 55  56]\n",
      " [ 66  67]\n",
      " [ 66  67]\n",
      " [100 100]\n",
      " [ 58  33]\n",
      " [ 76  92]\n",
      " [ 70  59]\n",
      " [100 100]\n",
      " [ 66  67]\n",
      " [ 85  71]\n",
      " [100 100]\n",
      " [ 78  57]\n",
      " [ 88  89]\n",
      " [100 100]\n",
      " [100 100]\n",
      " [100 100]]\n"
     ]
    }
   ],
   "source": [
    "print(Xs)"
   ]
  },
  {
   "cell_type": "code",
   "execution_count": 15,
   "metadata": {},
   "outputs": [
    {
     "name": "stdout",
     "output_type": "stream",
     "text": [
      "[ 1  1  0  1  1  0  0 72 77 95  0 77 83 66  0 58 92 70  0 66 85  0 78 88\n",
      "  0  0  0]\n"
     ]
    }
   ],
   "source": [
    "print(ys)"
   ]
  },
  {
   "cell_type": "code",
   "execution_count": 16,
   "metadata": {},
   "outputs": [
    {
     "name": "stdout",
     "output_type": "stream",
     "text": [
      "           cure_rate  succese_rate  kematian_selama_pengobatan\n",
      "mean       82.851852     79.962963                   37.444444\n",
      "std        15.822826     18.984774                   39.998397\n",
      "variance  250.361823    360.421652                 1599.871795\n"
     ]
    }
   ],
   "source": [
    "# Mengetahui nilai mean, standar deviasi dan varians\n",
    "result_mlr = data_mlr.describe().loc[['mean', 'std']]\n",
    "result_mlr.loc['variance'] = result_mlr.loc['std']**2\n",
    "print(result_mlr)"
   ]
  },
  {
   "cell_type": "code",
   "execution_count": 17,
   "metadata": {},
   "outputs": [
    {
     "name": "stdout",
     "output_type": "stream",
     "text": [
      "'Covariance'\n",
      "\n",
      "                              cure_rate  succese_rate  \\\n",
      "cure_rate                   250.361823    260.763533   \n",
      "succese_rate                260.763533    360.421652   \n",
      "kematian_selama_pengobatan -331.008547   -445.482906   \n",
      "\n",
      "                            kematian_selama_pengobatan  \n",
      "cure_rate                                  -331.008547  \n",
      "succese_rate                               -445.482906  \n",
      "kematian_selama_pengobatan                 1599.871795  \n",
      "\n",
      "'Coeffisient of Correlation - Pearson Method'\n",
      "\n",
      "                             cure_rate  succese_rate  \\\n",
      "cure_rate                    1.000000      0.868075   \n",
      "succese_rate                 0.868075      1.000000   \n",
      "kematian_selama_pengobatan  -0.523013     -0.586655   \n",
      "\n",
      "                            kematian_selama_pengobatan  \n",
      "cure_rate                                    -0.523013  \n",
      "succese_rate                                 -0.586655  \n",
      "kematian_selama_pengobatan                    1.000000  \n"
     ]
    }
   ],
   "source": [
    "# Mengetahui nilai covariance dan coeffisient of correlation\n",
    "print(\"'Covariance'\\n\\n\", data_mlr.cov())\n",
    "print(\"\\n'Coeffisient of Correlation - Pearson Method'\\n\\n\", data_mlr.corr(method=\"pearson\"))"
   ]
  },
  {
   "cell_type": "code",
   "execution_count": 18,
   "metadata": {},
   "outputs": [
    {
     "data": {
      "text/html": [
       "<style  type=\"text/css\" >\n",
       "#T_5b415228_30bc_11eb_839f_cd120b9f1013row0_col0,#T_5b415228_30bc_11eb_839f_cd120b9f1013row1_col1,#T_5b415228_30bc_11eb_839f_cd120b9f1013row2_col2{\n",
       "            background-color:  #023858;\n",
       "            color:  #f1f1f1;\n",
       "        }#T_5b415228_30bc_11eb_839f_cd120b9f1013row0_col1{\n",
       "            background-color:  #034e7b;\n",
       "            color:  #f1f1f1;\n",
       "        }#T_5b415228_30bc_11eb_839f_cd120b9f1013row0_col2{\n",
       "            background-color:  #f9f2f8;\n",
       "            color:  #000000;\n",
       "        }#T_5b415228_30bc_11eb_839f_cd120b9f1013row1_col0{\n",
       "            background-color:  #034f7d;\n",
       "            color:  #f1f1f1;\n",
       "        }#T_5b415228_30bc_11eb_839f_cd120b9f1013row1_col2,#T_5b415228_30bc_11eb_839f_cd120b9f1013row2_col0,#T_5b415228_30bc_11eb_839f_cd120b9f1013row2_col1{\n",
       "            background-color:  #fff7fb;\n",
       "            color:  #000000;\n",
       "        }</style><table id=\"T_5b415228_30bc_11eb_839f_cd120b9f1013\" ><thead>    <tr>        <th class=\"blank level0\" ></th>        <th class=\"col_heading level0 col0\" >cure_rate</th>        <th class=\"col_heading level0 col1\" >succese_rate</th>        <th class=\"col_heading level0 col2\" >kematian_selama_pengobatan</th>    </tr></thead><tbody>\n",
       "                <tr>\n",
       "                        <th id=\"T_5b415228_30bc_11eb_839f_cd120b9f1013level0_row0\" class=\"row_heading level0 row0\" >cure_rate</th>\n",
       "                        <td id=\"T_5b415228_30bc_11eb_839f_cd120b9f1013row0_col0\" class=\"data row0 col0\" >1.00</td>\n",
       "                        <td id=\"T_5b415228_30bc_11eb_839f_cd120b9f1013row0_col1\" class=\"data row0 col1\" >0.87</td>\n",
       "                        <td id=\"T_5b415228_30bc_11eb_839f_cd120b9f1013row0_col2\" class=\"data row0 col2\" >-0.52</td>\n",
       "            </tr>\n",
       "            <tr>\n",
       "                        <th id=\"T_5b415228_30bc_11eb_839f_cd120b9f1013level0_row1\" class=\"row_heading level0 row1\" >succese_rate</th>\n",
       "                        <td id=\"T_5b415228_30bc_11eb_839f_cd120b9f1013row1_col0\" class=\"data row1 col0\" >0.87</td>\n",
       "                        <td id=\"T_5b415228_30bc_11eb_839f_cd120b9f1013row1_col1\" class=\"data row1 col1\" >1.00</td>\n",
       "                        <td id=\"T_5b415228_30bc_11eb_839f_cd120b9f1013row1_col2\" class=\"data row1 col2\" >-0.59</td>\n",
       "            </tr>\n",
       "            <tr>\n",
       "                        <th id=\"T_5b415228_30bc_11eb_839f_cd120b9f1013level0_row2\" class=\"row_heading level0 row2\" >kematian_selama_pengobatan</th>\n",
       "                        <td id=\"T_5b415228_30bc_11eb_839f_cd120b9f1013row2_col0\" class=\"data row2 col0\" >-0.52</td>\n",
       "                        <td id=\"T_5b415228_30bc_11eb_839f_cd120b9f1013row2_col1\" class=\"data row2 col1\" >-0.59</td>\n",
       "                        <td id=\"T_5b415228_30bc_11eb_839f_cd120b9f1013row2_col2\" class=\"data row2 col2\" >1.00</td>\n",
       "            </tr>\n",
       "    </tbody></table>"
      ],
      "text/plain": [
       "<pandas.io.formats.style.Styler at 0x7fc470466b10>"
      ]
     },
     "execution_count": 18,
     "metadata": {},
     "output_type": "execute_result"
    }
   ],
   "source": [
    "# Mengetahui nilai korelasi\n",
    "data_mlr.corr().style.background_gradient().set_precision(2)"
   ]
  },
  {
   "cell_type": "code",
   "execution_count": 19,
   "metadata": {},
   "outputs": [
    {
     "name": "stdout",
     "output_type": "stream",
     "text": [
      "Coefficient : [-0.03612899 -1.20532102]\n",
      "Intercept   : 135.95118677078204\n",
      "R-Squared   : 0.2444273384631761\n"
     ]
    }
   ],
   "source": [
    "# Training model MLR pada train set\n",
    "regr = LinearRegression()\n",
    "regr.fit(Xs_train, ys_train)\n",
    "Yhat = regr.predict(Xs_test)\n",
    "print('Coefficient :', regr.coef_)\n",
    "print('Intercept   :', regr.intercept_)\n",
    "print('R-Squared   :', regr.score(Xs_test, ys_test))"
   ]
  },
  {
   "cell_type": "code",
   "execution_count": 20,
   "metadata": {},
   "outputs": [
    {
     "name": "stdout",
     "output_type": "stream",
     "text": [
      "Prediksi [48.5]\n",
      "\n",
      "Prediksi (y) :\n",
      "\n",
      " [[11.8  0. ]\n",
      " [52.8 66. ]\n",
      " [42.8  1. ]\n",
      " [52.8 66. ]\n",
      " [11.8  0. ]\n",
      " [25.5 88. ]]\n"
     ]
    }
   ],
   "source": [
    "# Prediksi hasil test set\n",
    "ys_predict = regr.predict(Xs_test)\n",
    "np.set_printoptions(precision=1)\n",
    "print('Prediksi', regr.predict([[85,70]]))\n",
    "print('\\nPrediksi (y) :\\n\\n',np.concatenate((ys_predict.reshape(len(ys_predict),1), ys_test.reshape(len(ys_test),1)),1))"
   ]
  },
  {
   "cell_type": "code",
   "execution_count": 21,
   "metadata": {},
   "outputs": [
    {
     "name": "stdout",
     "output_type": "stream",
     "text": [
      "Mean Absolute Error     : 25.722702046427752\n",
      "Mean Squared Error      : 1047.3286495374734\n",
      "Root Mean Squared Error : 32.362457408816674\n"
     ]
    }
   ],
   "source": [
    "# Metrics Score\n",
    "from sklearn import metrics\n",
    "print('Mean Absolute Error     :', metrics.mean_absolute_error(ys_test, ys_predict))\n",
    "print('Mean Squared Error      :', metrics.mean_squared_error(ys_test, ys_predict))\n",
    "print('Root Mean Squared Error :', np.sqrt(metrics.mean_squared_error(ys_test, ys_predict)))"
   ]
  },
  {
   "cell_type": "code",
   "execution_count": 22,
   "metadata": {},
   "outputs": [
    {
     "data": {
      "image/png": "[encoded data removed]",
      "text/plain": [
       "<Figure size 432x288 with 1 Axes>"
      ]
     },
     "metadata": {
      "needs_background": "light"
     },
     "output_type": "display_data"
    }
   ],
   "source": [
    "# Visualisasi (test set)\n",
    "ys_train_predict = regr.predict(Xs_train)\n",
    "plt.scatter(ys_train, ys_train_predict, color = \"b\", marker = \"o\" )\n",
    "plt.plot([ys_train.min(), ys_train.max()], [ys_train.min(), ys_train.max()], color = 'g')\n",
    "plt.xlabel('Ratio')\n",
    "plt.ylabel('Prediction of Death')\n",
    "plt.show()"
   ]
  },
  {
   "cell_type": "code",
   "execution_count": 23,
   "metadata": {},
   "outputs": [
    {
     "data": {
      "image/png": "[encoded data removed]",
      "text/plain": [
       "<Figure size 432x288 with 1 Axes>"
      ]
     },
     "metadata": {
      "needs_background": "light"
     },
     "output_type": "display_data"
    }
   ],
   "source": [
    "# Visualisasi (test set)\n",
    "ys_test_predict = regr.predict(Xs_test)\n",
    "plt.scatter(ys_test, ys_test_predict, color = \"g\", marker = \"o\" )\n",
    "plt.plot([ys_test.min(), ys_test.max()], [ys_test.min(), ys_test.max()], color = 'r')\n",
    "plt.xlabel('Ratio')\n",
    "plt.ylabel('Prediction of Death')\n",
    "plt.show()"
   ]
  },
  {
   "cell_type": "code",
   "execution_count": 24,
   "metadata": {},
   "outputs": [
    {
     "data": {
      "image/png": "[encoded data removed]",
      "text/plain": [
       "<Figure size 432x288 with 1 Axes>"
      ]
     },
     "metadata": {
      "needs_background": "light"
     },
     "output_type": "display_data"
    }
   ],
   "source": [
    "# Visualisasi plot nilai aktual dan prediksi\n",
    "import seaborn as sns\n",
    "\n",
    "sns.kdeplot(Yhat, color = 'r', label = 'Predicted Values')\n",
    "sns.kdeplot(ys_test, color = 'b', label = 'Actual Values')\n",
    "plt.title('Actual vs Predicted Values', fontsize = 16)\n",
    "plt.xlabel('Values', fontsize = 12)\n",
    "plt.ylabel('Frequency', fontsize = 12)\n",
    "plt.legend(loc = 'upper right', fontsize = 10)\n",
    "plt.show()"
   ]
  },
  {
   "cell_type": "code",
   "execution_count": null,
   "metadata": {},
   "outputs": [],
   "source": []
  }
 ],
 "metadata": {
  "colab": {
   "collapsed_sections": [],
   "name": "UTS_177006057_SLR.ipynb",
   "provenance": []
  },
  "kernelspec": {
   "display_name": "Python 3",
   "language": "python",
   "name": "python3"
  },
  "language_info": {
   "codemirror_mode": {
    "name": "ipython",
    "version": 3
   },
   "file_extension": ".py",
   "mimetype": "text/x-python",
   "name": "python",
   "nbconvert_exporter": "python",
   "pygments_lexer": "ipython3",
   "version": "3.7.9"
  }
 },
 "nbformat": 4,
 "nbformat_minor": 4
}
