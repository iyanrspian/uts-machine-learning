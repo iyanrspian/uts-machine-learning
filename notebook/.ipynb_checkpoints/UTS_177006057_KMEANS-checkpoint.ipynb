{
  "nbformat": 4,
  "nbformat_minor": 0,
  "metadata": {
    "colab": {
      "name": "UTS_177006057_KMEANS.ipynb",
      "private_outputs": true,
      "provenance": [],
      "collapsed_sections": []
    },
    "kernelspec": {
      "name": "python3",
      "display_name": "Python 3"
    }
  },
  "cells": [
    {
      "cell_type": "markdown",
      "metadata": {
        "id": "QgDtaMGkRt0-"
      },
      "source": [
        "**N-03 KMEANS CLUSTERING**\n",
        "\n",
        " - Klusterisasi data fisik pasar\n",
        " - Sumber dataset dari ***Open Data Bantul***"
      ]
    },
    {
      "cell_type": "code",
      "metadata": {
        "id": "cruA6--NRlNA"
      },
      "source": [
        "# Import library\n",
        "import numpy as np\n",
        "import pandas as pd\n",
        "import matplotlib.pyplot as plt"
      ],
      "execution_count": null,
      "outputs": []
    },
    {
      "cell_type": "code",
      "metadata": {
        "id": "Fqa7nxF3nf84"
      },
      "source": [
        ""
      ],
      "execution_count": null,
      "outputs": []
    }
  ]
}