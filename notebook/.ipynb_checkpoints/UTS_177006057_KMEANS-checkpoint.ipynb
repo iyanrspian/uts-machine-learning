{
 "cells": [
  {
   "cell_type": "markdown",
   "metadata": {
    "id": "QgDtaMGkRt0-"
   },
   "source": [
    "**N-03 KMEANS CLUSTERING**\n",
    "\n",
    " - Klusterisasi data fisik pasar\n",
    " - Sumber dataset dari ***Open Data Bantul***"
   ]
  },
  {
   "cell_type": "code",
   "execution_count": 1,
   "metadata": {
    "id": "cruA6--NRlNA"
   },
   "outputs": [],
   "source": [
    "# Import library\n",
    "import numpy as np\n",
    "import pandas as pd\n",
    "import matplotlib.pyplot as plt"
   ]
  },
  {
   "cell_type": "code",
   "execution_count": 2,
   "metadata": {},
   "outputs": [
    {
     "data": {
      "text/html": [
       "<div>\n",
       "<style scoped>\n",
       "    .dataframe tbody tr th:only-of-type {\n",
       "        vertical-align: middle;\n",
       "    }\n",
       "\n",
       "    .dataframe tbody tr th {\n",
       "        vertical-align: top;\n",
       "    }\n",
       "\n",
       "    .dataframe thead th {\n",
       "        text-align: right;\n",
       "    }\n",
       "</style>\n",
       "<table border=\"1\" class=\"dataframe\">\n",
       "  <thead>\n",
       "    <tr style=\"text-align: right;\">\n",
       "      <th></th>\n",
       "      <th>nama_pasar</th>\n",
       "      <th>luas_tanah</th>\n",
       "      <th>status_tanah</th>\n",
       "      <th>luas_bangunan</th>\n",
       "      <th>kios_(unit)</th>\n",
       "      <th>los_(unit)</th>\n",
       "      <th>kantor_unit</th>\n",
       "      <th>mck</th>\n",
       "      <th>bongkar_muat</th>\n",
       "      <th>bak_sampah</th>\n",
       "      <th>tempat_ibadah</th>\n",
       "      <th>hydrant</th>\n",
       "      <th>apar_(unit)</th>\n",
       "      <th>pos_satpam</th>\n",
       "      <th>kios</th>\n",
       "      <th>los</th>\n",
       "      <th>arahan</th>\n",
       "    </tr>\n",
       "  </thead>\n",
       "  <tbody>\n",
       "    <tr>\n",
       "      <th>0</th>\n",
       "      <td>Bantul</td>\n",
       "      <td>23714</td>\n",
       "      <td>Pemda</td>\n",
       "      <td>17719</td>\n",
       "      <td>281</td>\n",
       "      <td>51</td>\n",
       "      <td>ada</td>\n",
       "      <td>6</td>\n",
       "      <td>1</td>\n",
       "      <td>40</td>\n",
       "      <td>1</td>\n",
       "      <td>3</td>\n",
       "      <td>6</td>\n",
       "      <td>1</td>\n",
       "      <td>374</td>\n",
       "      <td>1022</td>\n",
       "      <td>200</td>\n",
       "    </tr>\n",
       "    <tr>\n",
       "      <th>1</th>\n",
       "      <td>Niten</td>\n",
       "      <td>25835</td>\n",
       "      <td>KD&amp; pemda</td>\n",
       "      <td>18036</td>\n",
       "      <td>119</td>\n",
       "      <td>13</td>\n",
       "      <td>ada</td>\n",
       "      <td>2</td>\n",
       "      <td>6</td>\n",
       "      <td>25</td>\n",
       "      <td>1</td>\n",
       "      <td>6</td>\n",
       "      <td>5</td>\n",
       "      <td>2</td>\n",
       "      <td>119</td>\n",
       "      <td>472</td>\n",
       "      <td>89</td>\n",
       "    </tr>\n",
       "    <tr>\n",
       "      <th>2</th>\n",
       "      <td>Klitikan Niten</td>\n",
       "      <td>10800</td>\n",
       "      <td>KD</td>\n",
       "      <td>3000</td>\n",
       "      <td>0</td>\n",
       "      <td>5</td>\n",
       "      <td>ada</td>\n",
       "      <td>1</td>\n",
       "      <td>0</td>\n",
       "      <td>2</td>\n",
       "      <td>1</td>\n",
       "      <td>0</td>\n",
       "      <td>4</td>\n",
       "      <td>0</td>\n",
       "      <td>0</td>\n",
       "      <td>159</td>\n",
       "      <td>4</td>\n",
       "    </tr>\n",
       "    <tr>\n",
       "      <th>3</th>\n",
       "      <td>Janten</td>\n",
       "      <td>1020</td>\n",
       "      <td>Pemda</td>\n",
       "      <td>900</td>\n",
       "      <td>0</td>\n",
       "      <td>1</td>\n",
       "      <td>Tidak</td>\n",
       "      <td>2</td>\n",
       "      <td>1</td>\n",
       "      <td>12</td>\n",
       "      <td>0</td>\n",
       "      <td>0</td>\n",
       "      <td>1</td>\n",
       "      <td>0</td>\n",
       "      <td>0</td>\n",
       "      <td>54</td>\n",
       "      <td>2</td>\n",
       "    </tr>\n",
       "    <tr>\n",
       "      <th>4</th>\n",
       "      <td>Piyungan</td>\n",
       "      <td>20068</td>\n",
       "      <td>Pemda</td>\n",
       "      <td>18400</td>\n",
       "      <td>85</td>\n",
       "      <td>22</td>\n",
       "      <td>ada</td>\n",
       "      <td>2</td>\n",
       "      <td>1</td>\n",
       "      <td>50</td>\n",
       "      <td>2</td>\n",
       "      <td>0</td>\n",
       "      <td>4</td>\n",
       "      <td>1</td>\n",
       "      <td>85</td>\n",
       "      <td>712</td>\n",
       "      <td>21</td>\n",
       "    </tr>\n",
       "  </tbody>\n",
       "</table>\n",
       "</div>"
      ],
      "text/plain": [
       "       nama_pasar  luas_tanah status_tanah  luas_bangunan  kios_(unit)  \\\n",
       "0          Bantul       23714        Pemda          17719          281   \n",
       "1           Niten       25835    KD& pemda          18036          119   \n",
       "2  Klitikan Niten       10800           KD           3000            0   \n",
       "3          Janten        1020        Pemda            900            0   \n",
       "4        Piyungan       20068        Pemda          18400           85   \n",
       "\n",
       "   los_(unit) kantor_unit  mck  bongkar_muat  bak_sampah  tempat_ibadah  \\\n",
       "0          51         ada    6             1          40              1   \n",
       "1          13         ada    2             6          25              1   \n",
       "2           5         ada    1             0           2              1   \n",
       "3           1       Tidak    2             1          12              0   \n",
       "4          22         ada    2             1          50              2   \n",
       "\n",
       "   hydrant  apar_(unit)  pos_satpam  kios   los  arahan  \n",
       "0        3            6           1   374  1022     200  \n",
       "1        6            5           2   119   472      89  \n",
       "2        0            4           0     0   159       4  \n",
       "3        0            1           0     0    54       2  \n",
       "4        0            4           1    85   712      21  "
      ]
     },
     "execution_count": 2,
     "metadata": {},
     "output_type": "execute_result"
    }
   ],
   "source": [
    "# Import dataset\n",
    "link = 'https://raw.githubusercontent.com/iyanrspian/uts-machine-learning/main/data-fisik-pasar.csv'\n",
    "data = pd.read_csv(link)\n",
    "data.head()"
   ]
  },
  {
   "cell_type": "code",
   "execution_count": 3,
   "metadata": {},
   "outputs": [
    {
     "data": {
      "image/png": "[encoded data removed]",
      "text/plain": [
       "<Figure size 432x288 with 1 Axes>"
      ]
     },
     "metadata": {
      "needs_background": "light"
     },
     "output_type": "display_data"
    }
   ],
   "source": [
    "# Menampilkan jumlah kantor per-pasar (ada/tidak)\n",
    "import seaborn as sns\n",
    "sns.countplot(x=\"kantor_unit\", data=data)\n",
    "plt.xlabel(\"Kantor Unit\")\n",
    "plt.ylabel(\"Jumlah\")\n",
    "plt.show()"
   ]
  },
  {
   "cell_type": "code",
   "execution_count": 4,
   "metadata": {},
   "outputs": [
    {
     "data": {
      "image/png": "[encoded data removed]",
      "text/plain": [
       "<Figure size 432x288 with 1 Axes>"
      ]
     },
     "metadata": {
      "needs_background": "light"
     },
     "output_type": "display_data"
    }
   ],
   "source": [
    "# Menampilkan status kantor unit berdasarkan luas tanah & kios\n",
    "plt.scatter(x=data.luas_tanah[data.kantor_unit=='ada'], y=data.kios[(data.kantor_unit=='ada')])\n",
    "plt.scatter(x=data.luas_tanah[data.kantor_unit=='Tidak'], y=data.kios[(data.kantor_unit=='Tidak')])\n",
    "plt.legend([\"Ada\", \"Tidak Ada\"])\n",
    "plt.xlabel(\"Luas Tanah\")\n",
    "plt.ylabel(\"Kios\")\n",
    "plt.show()"
   ]
  },
  {
   "cell_type": "code",
   "execution_count": 5,
   "metadata": {},
   "outputs": [
    {
     "data": {
      "text/html": [
       "<div>\n",
       "<style scoped>\n",
       "    .dataframe tbody tr th:only-of-type {\n",
       "        vertical-align: middle;\n",
       "    }\n",
       "\n",
       "    .dataframe tbody tr th {\n",
       "        vertical-align: top;\n",
       "    }\n",
       "\n",
       "    .dataframe thead th {\n",
       "        text-align: right;\n",
       "    }\n",
       "</style>\n",
       "<table border=\"1\" class=\"dataframe\">\n",
       "  <thead>\n",
       "    <tr style=\"text-align: right;\">\n",
       "      <th></th>\n",
       "      <th>luas_tanah</th>\n",
       "      <th>mck</th>\n",
       "      <th>bak_sampah</th>\n",
       "      <th>tempat_ibadah</th>\n",
       "      <th>hydrant</th>\n",
       "      <th>pos_satpam</th>\n",
       "      <th>kios</th>\n",
       "    </tr>\n",
       "  </thead>\n",
       "  <tbody>\n",
       "    <tr>\n",
       "      <th>0</th>\n",
       "      <td>23714</td>\n",
       "      <td>6</td>\n",
       "      <td>40</td>\n",
       "      <td>1</td>\n",
       "      <td>3</td>\n",
       "      <td>1</td>\n",
       "      <td>374</td>\n",
       "    </tr>\n",
       "    <tr>\n",
       "      <th>1</th>\n",
       "      <td>25835</td>\n",
       "      <td>2</td>\n",
       "      <td>25</td>\n",
       "      <td>1</td>\n",
       "      <td>6</td>\n",
       "      <td>2</td>\n",
       "      <td>119</td>\n",
       "    </tr>\n",
       "    <tr>\n",
       "      <th>2</th>\n",
       "      <td>10800</td>\n",
       "      <td>1</td>\n",
       "      <td>2</td>\n",
       "      <td>1</td>\n",
       "      <td>0</td>\n",
       "      <td>0</td>\n",
       "      <td>0</td>\n",
       "    </tr>\n",
       "    <tr>\n",
       "      <th>3</th>\n",
       "      <td>1020</td>\n",
       "      <td>2</td>\n",
       "      <td>12</td>\n",
       "      <td>0</td>\n",
       "      <td>0</td>\n",
       "      <td>0</td>\n",
       "      <td>0</td>\n",
       "    </tr>\n",
       "    <tr>\n",
       "      <th>4</th>\n",
       "      <td>20068</td>\n",
       "      <td>2</td>\n",
       "      <td>50</td>\n",
       "      <td>2</td>\n",
       "      <td>0</td>\n",
       "      <td>1</td>\n",
       "      <td>85</td>\n",
       "    </tr>\n",
       "  </tbody>\n",
       "</table>\n",
       "</div>"
      ],
      "text/plain": [
       "   luas_tanah  mck  bak_sampah  tempat_ibadah  hydrant  pos_satpam  kios\n",
       "0       23714    6          40              1        3           1   374\n",
       "1       25835    2          25              1        6           2   119\n",
       "2       10800    1           2              1        0           0     0\n",
       "3        1020    2          12              0        0           0     0\n",
       "4       20068    2          50              2        0           1    85"
      ]
     },
     "execution_count": 5,
     "metadata": {},
     "output_type": "execute_result"
    }
   ],
   "source": [
    "# Hanya menampilkan dataset yang diperlukan\n",
    "data_latest = pd.read_csv(link, usecols=['luas_tanah', 'mck', 'bak_sampah', 'tempat_ibadah', 'hydrant', 'pos_satpam', 'kios'])\n",
    "data_latest.head()"
   ]
  },
  {
   "cell_type": "code",
   "execution_count": 6,
   "metadata": {},
   "outputs": [
    {
     "data": {
      "image/png": "[encoded data removed]",
      "text/plain": [
       "<Figure size 720x288 with 1 Axes>"
      ]
     },
     "metadata": {
      "needs_background": "light"
     },
     "output_type": "display_data"
    }
   ],
   "source": [
    "# Training dataset pada model K-Means\n",
    "from sklearn.cluster import KMeans\n",
    "\n",
    "# Menentukan variabel x (yakni luas tanah & kios)\n",
    "X = data_latest.iloc[:, [0, 6]].values\n",
    "\n",
    "kmeans = KMeans(n_clusters=4, init='k-means++', random_state=42)\n",
    "Ymeans = kmeans.fit_predict(X)\n",
    "\n",
    "# Visualisasi klusterisasi data\n",
    "plt.figure(figsize=(10,4))\n",
    "plt.scatter(X[Ymeans == 0,0], X[Ymeans == 0,1], label=\"Cluster 1\", c=\"magenta\")\n",
    "plt.scatter(X[Ymeans == 1,0], X[Ymeans == 1,1], label=\"Cluster 2\", c=\"orange\")\n",
    "plt.scatter(X[Ymeans == 2,0], X[Ymeans == 2,1], label=\"Cluster 3\", c=\"red\")\n",
    "plt.scatter(X[Ymeans == 3,0], X[Ymeans == 3,1], label=\"Cluster 4\", c=\"green\")\n",
    "plt.scatter(kmeans.cluster_centers_[:, 0], kmeans.cluster_centers_[:, 1], marker=\"*\", s=150, c=\"b\", label=\"Centroid\")\n",
    "plt.title(\"Visualisasi Klusterisasi Data\", fontweight=\"bold\")\n",
    "plt.xlabel(\"Luas Tanah\")\n",
    "plt.ylabel(\"Kios\")\n",
    "plt.legend()\n",
    "plt.show()"
   ]
  },
  {
   "cell_type": "code",
   "execution_count": 7,
   "metadata": {},
   "outputs": [
    {
     "data": {
      "image/png": "[encoded data removed]",
      "text/plain": [
       "<Figure size 720x288 with 1 Axes>"
      ]
     },
     "metadata": {
      "needs_background": "light"
     },
     "output_type": "display_data"
    }
   ],
   "source": [
    "# Metode Elbow (untuk mengetahui nomor kluster yang lebih optimal)\n",
    "sse = []\n",
    "lst = list(range(1,6))\n",
    " \n",
    "for i in lst:\n",
    "  kmeans = KMeans(n_clusters=i)\n",
    "  kmeans.fit(X)\n",
    "  sse.append(kmeans.inertia_)\n",
    "\n",
    "# Visualisasi\n",
    "plt.figure(figsize=(10,4))\n",
    "plt.plot(lst, sse, '-o')\n",
    "plt.title(\"The Elbow Method\")\n",
    "plt.xlabel(\"Number of Clusters\")\n",
    "plt.ylabel(\"Inertia\")\n",
    "plt.show()"
   ]
  },
  {
   "cell_type": "code",
   "execution_count": null,
   "metadata": {},
   "outputs": [],
   "source": []
  }
 ],
 "metadata": {
  "colab": {
   "collapsed_sections": [],
   "name": "UTS_177006057_KMEANS.ipynb",
   "private_outputs": true,
   "provenance": []
  },
  "kernelspec": {
   "display_name": "Python 3",
   "language": "python",
   "name": "python3"
  },
  "language_info": {
   "codemirror_mode": {
    "name": "ipython",
    "version": 3
   },
   "file_extension": ".py",
   "mimetype": "text/x-python",
   "name": "python",
   "nbconvert_exporter": "python",
   "pygments_lexer": "ipython3",
   "version": "3.7.9"
  }
 },
 "nbformat": 4,
 "nbformat_minor": 4
}
