{
 "cells": [
  {
   "cell_type": "markdown",
   "metadata": {
    "id": "uzEfI-JFuieg"
   },
   "source": [
    "**N-01 LINEAR REGRESSION (SLR AND MLR)**\n",
    "\n",
    " - Prediksi kematian selama pengobatan\n",
    " - Sumber dataset dari ***Open Data Bantul***"
   ]
  },
  {
   "cell_type": "code",
   "execution_count": 1,
   "metadata": {
    "id": "k7loG7R-atvQ"
   },
   "outputs": [],
   "source": [
    "# Import library\n",
    "import numpy as np\n",
    "import pandas as pd\n",
    "import matplotlib.pyplot as plt"
   ]
  },
  {
   "cell_type": "code",
   "execution_count": 2,
   "metadata": {
    "colab": {
     "base_uri": "https://localhost:8080/",
     "height": 195
    },
    "id": "Qh2bmq_QbYZz",
    "outputId": "639de989-e679-4964-feaa-c74df8021be8"
   },
   "outputs": [
    {
     "data": {
      "text/html": [
       "<div>\n",
       "<style scoped>\n",
       "    .dataframe tbody tr th:only-of-type {\n",
       "        vertical-align: middle;\n",
       "    }\n",
       "\n",
       "    .dataframe tbody tr th {\n",
       "        vertical-align: top;\n",
       "    }\n",
       "\n",
       "    .dataframe thead th {\n",
       "        text-align: right;\n",
       "    }\n",
       "</style>\n",
       "<table border=\"1\" class=\"dataframe\">\n",
       "  <thead>\n",
       "    <tr style=\"text-align: right;\">\n",
       "      <th></th>\n",
       "      <th>puskesmas</th>\n",
       "      <th>kecamatan</th>\n",
       "      <th>cure_rate</th>\n",
       "      <th>succese_rate</th>\n",
       "      <th>kematian_selama_pengobatan</th>\n",
       "    </tr>\n",
       "  </thead>\n",
       "  <tbody>\n",
       "    <tr>\n",
       "      <th>0</th>\n",
       "      <td>Srandakan</td>\n",
       "      <td>SRANDAKAN</td>\n",
       "      <td>60</td>\n",
       "      <td>60</td>\n",
       "      <td>1</td>\n",
       "    </tr>\n",
       "    <tr>\n",
       "      <th>1</th>\n",
       "      <td>Sanden</td>\n",
       "      <td>SANDEN</td>\n",
       "      <td>75</td>\n",
       "      <td>75</td>\n",
       "      <td>1</td>\n",
       "    </tr>\n",
       "    <tr>\n",
       "      <th>2</th>\n",
       "      <td>Kretek</td>\n",
       "      <td>KRETEK</td>\n",
       "      <td>100</td>\n",
       "      <td>100</td>\n",
       "      <td>0</td>\n",
       "    </tr>\n",
       "    <tr>\n",
       "      <th>3</th>\n",
       "      <td>Pundong</td>\n",
       "      <td>PUNDONG</td>\n",
       "      <td>70</td>\n",
       "      <td>70</td>\n",
       "      <td>1</td>\n",
       "    </tr>\n",
       "    <tr>\n",
       "      <th>4</th>\n",
       "      <td>Bambanglipuro</td>\n",
       "      <td>BAMBANGLIPURO</td>\n",
       "      <td>80</td>\n",
       "      <td>80</td>\n",
       "      <td>1</td>\n",
       "    </tr>\n",
       "  </tbody>\n",
       "</table>\n",
       "</div>"
      ],
      "text/plain": [
       "       puskesmas      kecamatan  cure_rate  succese_rate  \\\n",
       "0      Srandakan      SRANDAKAN         60            60   \n",
       "1         Sanden         SANDEN         75            75   \n",
       "2         Kretek         KRETEK        100           100   \n",
       "3        Pundong        PUNDONG         70            70   \n",
       "4  Bambanglipuro  BAMBANGLIPURO         80            80   \n",
       "\n",
       "   kematian_selama_pengobatan  \n",
       "0                           1  \n",
       "1                           1  \n",
       "2                           0  \n",
       "3                           1  \n",
       "4                           1  "
      ]
     },
     "execution_count": 2,
     "metadata": {},
     "output_type": "execute_result"
    }
   ],
   "source": [
    "# Import dataset\n",
    "link = 'https://raw.githubusercontent.com/iyanrspian/uts-machine-learning/main/cure-success-rate-tb.csv'\n",
    "data = pd.read_csv(link)\n",
    "data.head()"
   ]
  },
  {
   "cell_type": "markdown",
   "metadata": {},
   "source": [
    "A. Simple Linear Regresion"
   ]
  },
  {
   "cell_type": "code",
   "execution_count": 3,
   "metadata": {
    "colab": {
     "base_uri": "https://localhost:8080/",
     "height": 195
    },
    "id": "ixRFAsinlLZy",
    "outputId": "a5392f11-e8c4-4a0e-aa5b-3879879fad8b"
   },
   "outputs": [
    {
     "data": {
      "text/html": [
       "<div>\n",
       "<style scoped>\n",
       "    .dataframe tbody tr th:only-of-type {\n",
       "        vertical-align: middle;\n",
       "    }\n",
       "\n",
       "    .dataframe tbody tr th {\n",
       "        vertical-align: top;\n",
       "    }\n",
       "\n",
       "    .dataframe thead th {\n",
       "        text-align: right;\n",
       "    }\n",
       "</style>\n",
       "<table border=\"1\" class=\"dataframe\">\n",
       "  <thead>\n",
       "    <tr style=\"text-align: right;\">\n",
       "      <th></th>\n",
       "      <th>succese_rate</th>\n",
       "      <th>kematian_selama_pengobatan</th>\n",
       "    </tr>\n",
       "  </thead>\n",
       "  <tbody>\n",
       "    <tr>\n",
       "      <th>22</th>\n",
       "      <td>57</td>\n",
       "      <td>78</td>\n",
       "    </tr>\n",
       "    <tr>\n",
       "      <th>23</th>\n",
       "      <td>89</td>\n",
       "      <td>88</td>\n",
       "    </tr>\n",
       "    <tr>\n",
       "      <th>24</th>\n",
       "      <td>100</td>\n",
       "      <td>0</td>\n",
       "    </tr>\n",
       "    <tr>\n",
       "      <th>25</th>\n",
       "      <td>100</td>\n",
       "      <td>0</td>\n",
       "    </tr>\n",
       "    <tr>\n",
       "      <th>26</th>\n",
       "      <td>100</td>\n",
       "      <td>0</td>\n",
       "    </tr>\n",
       "  </tbody>\n",
       "</table>\n",
       "</div>"
      ],
      "text/plain": [
       "    succese_rate  kematian_selama_pengobatan\n",
       "22            57                          78\n",
       "23            89                          88\n",
       "24           100                           0\n",
       "25           100                           0\n",
       "26           100                           0"
      ]
     },
     "execution_count": 3,
     "metadata": {},
     "output_type": "execute_result"
    }
   ],
   "source": [
    "# Update dataset yang akan diperlukan saja\n",
    "data_update = pd.read_csv(link, usecols=['succese_rate', 'kematian_selama_pengobatan'])\n",
    "data_update.tail()"
   ]
  },
  {
   "cell_type": "code",
   "execution_count": 4,
   "metadata": {
    "id": "txjxNup1e_SA"
   },
   "outputs": [],
   "source": [
    "# Membuat variabel X, y dan split data (training & testing) dengan porsi 80:20\n",
    "from sklearn.model_selection import train_test_split\n",
    "\n",
    "X = data_update['succese_rate'].values.reshape(-1,1)\n",
    "y = data_update['kematian_selama_pengobatan'].values.reshape(-1,1)\n",
    "X_train, X_test, y_train, y_test = train_test_split(X, y, test_size = 0.2)"
   ]
  },
  {
   "cell_type": "code",
   "execution_count": 5,
   "metadata": {
    "colab": {
     "base_uri": "https://localhost:8080/"
    },
    "id": "L8Wd8xXxmY8n",
    "outputId": "654cf054-e2f6-45d1-8488-a38b9aef2033"
   },
   "outputs": [
    {
     "name": "stdout",
     "output_type": "stream",
     "text": [
      "          succese_rate  kematian_selama_pengobatan\n",
      "mean         79.962963                   37.444444\n",
      "std          18.984774                   39.998397\n",
      "variance    360.421652                 1599.871795\n"
     ]
    }
   ],
   "source": [
    "# Menghitung mean, standard deviation dan variance\n",
    "data_result = data_update.describe().loc[['mean', 'std']]\n",
    "data_result.loc['variance'] = data_result.loc['std']**2\n",
    "print(data_result)"
   ]
  },
  {
   "cell_type": "code",
   "execution_count": 6,
   "metadata": {
    "colab": {
     "base_uri": "https://localhost:8080/"
    },
    "id": "lh0t7jXhmr4i",
    "outputId": "e298c917-f481-49bc-f7ec-752e3ebd5ba0"
   },
   "outputs": [
    {
     "name": "stdout",
     "output_type": "stream",
     "text": [
      "'Covariance'\n",
      "\n",
      "                             succese_rate  kematian_selama_pengobatan\n",
      "succese_rate                  360.421652                 -445.482906\n",
      "kematian_selama_pengobatan   -445.482906                 1599.871795\n",
      "\n",
      "'Coeffisient of Correlation - Pearson Method'\n",
      "\n",
      "                             succese_rate  kematian_selama_pengobatan\n",
      "succese_rate                    1.000000                   -0.586655\n",
      "kematian_selama_pengobatan     -0.586655                    1.000000\n"
     ]
    }
   ],
   "source": [
    "# Menghitung covariance dan coeffisient of correlation\n",
    "print(\"'Covariance'\\n\\n\", data_update.cov())\n",
    "print(\"\\n'Coeffisient of Correlation - Pearson Method'\\n\\n\", data_update.corr(method=\"pearson\"))"
   ]
  },
  {
   "cell_type": "code",
   "execution_count": 7,
   "metadata": {
    "colab": {
     "base_uri": "https://localhost:8080/"
    },
    "id": "uuyPFT6EgOVZ",
    "outputId": "5d151dc6-334e-4779-f10f-fc92519285d7"
   },
   "outputs": [
    {
     "data": {
      "text/plain": [
       "LinearRegression()"
      ]
     },
     "execution_count": 7,
     "metadata": {},
     "output_type": "execute_result"
    }
   ],
   "source": [
    "# Membuat object Linear Regression dan Training Model\n",
    "from sklearn.linear_model import LinearRegression\n",
    "\n",
    "lin_reg = LinearRegression()\n",
    "lin_reg.fit(X_train, y_train)"
   ]
  },
  {
   "cell_type": "code",
   "execution_count": 8,
   "metadata": {
    "colab": {
     "base_uri": "https://localhost:8080/"
    },
    "id": "3caaa3T4l7kb",
    "outputId": "972be10c-ffe4-4148-a6cb-2b629cfd5c1d"
   },
   "outputs": [
    {
     "name": "stdout",
     "output_type": "stream",
     "text": [
      "[[-0.96123807]]\n",
      "[112.39369395]\n"
     ]
    }
   ],
   "source": [
    "# Mencari tahu nilai slope/koefisien (m) dan intercept (b)\n",
    "print(lin_reg.coef_)\n",
    "print(lin_reg.intercept_)"
   ]
  },
  {
   "cell_type": "code",
   "execution_count": 9,
   "metadata": {
    "colab": {
     "base_uri": "https://localhost:8080/"
    },
    "id": "wQoWUwYnmE1O",
    "outputId": "45519682-d701-49fb-e78c-36ad45f25cac"
   },
   "outputs": [
    {
     "name": "stdout",
     "output_type": "stream",
     "text": [
      "\n",
      "Accuracy score : 60.0%\n"
     ]
    }
   ],
   "source": [
    "# Mencari tahu accuracy score dari model, menggunakan testing data yang sudah displit sebelumnya.\n",
    "accuracy = lin_reg.score(X_test, y_test)\n",
    "print(\"\\nAccuracy score :\", str(round(accuracy, 2)*100) + '%')"
   ]
  },
  {
   "cell_type": "code",
   "execution_count": 10,
   "metadata": {
    "colab": {
     "base_uri": "https://localhost:8080/"
    },
    "id": "I3sT9YsemKfo",
    "outputId": "f62da4a2-d374-46c6-b59d-c3ee886c7314"
   },
   "outputs": [
    {
     "name": "stdout",
     "output_type": "stream",
     "text": [
      "[63] = [[51.83569569]]\n",
      "[59] = [[55.68064796]]\n",
      "[71] = [[44.14579115]]\n"
     ]
    }
   ],
   "source": [
    "# Prediksi dengan nilai cure_rate sebagai berikut\n",
    "print(\"[63] =\", lin_reg.predict([[63]]))\n",
    "print(\"[59] =\", lin_reg.predict([[59]]))\n",
    "print(\"[71] =\", lin_reg.predict([[71]]))"
   ]
  },
  {
   "cell_type": "code",
   "execution_count": 11,
   "metadata": {
    "colab": {
     "base_uri": "https://localhost:8080/",
     "height": 295
    },
    "id": "thvsqve4nhvX",
    "outputId": "1e346376-ec42-47a0-f2c7-cd5a1ea7525d"
   },
   "outputs": [
    {
     "data": {
      "image/png": "[encoded data removed]",
      "text/plain": [
       "<Figure size 432x288 with 1 Axes>"
      ]
     },
     "metadata": {
      "needs_background": "light"
     },
     "output_type": "display_data"
    }
   ],
   "source": [
    "# Visualisasi (train set)\n",
    "y_predict = lin_reg.predict(X_train)\n",
    "plt.scatter(X_train, y_train)\n",
    "plt.plot(X_train, y_predict, color='red')\n",
    "plt.title('Rasio kematian karena TB (Training Set)')\n",
    "plt.xlabel('succese_rate')\n",
    "plt.ylabel('kematian_selama_pengobatan')\n",
    "plt.show()"
   ]
  },
  {
   "cell_type": "code",
   "execution_count": 12,
   "metadata": {},
   "outputs": [
    {
     "data": {
      "image/png": "[encoded data removed]",
      "text/plain": [
       "<Figure size 432x288 with 1 Axes>"
      ]
     },
     "metadata": {
      "needs_background": "light"
     },
     "output_type": "display_data"
    }
   ],
   "source": [
    "# Visualisasi (test set)\n",
    "y_predict = lin_reg.predict(X_test)\n",
    "plt.scatter(X_test, y_test)\n",
    "plt.plot(X_test, y_predict, color='red')\n",
    "plt.title('Rasio kematian karena TB (Test Set)')\n",
    "plt.xlabel('succese_rate')\n",
    "plt.ylabel('kematian_selama_pengobatan')\n",
    "plt.show()"
   ]
  },
  {
   "cell_type": "code",
   "execution_count": null,
   "metadata": {},
   "outputs": [],
   "source": []
  }
 ],
 "metadata": {
  "colab": {
   "collapsed_sections": [],
   "name": "UTS_177006057_SLR.ipynb",
   "provenance": []
  },
  "kernelspec": {
   "display_name": "Python 3",
   "language": "python",
   "name": "python3"
  },
  "language_info": {
   "codemirror_mode": {
    "name": "ipython",
    "version": 3
   },
   "file_extension": ".py",
   "mimetype": "text/x-python",
   "name": "python",
   "nbconvert_exporter": "python",
   "pygments_lexer": "ipython3",
   "version": "3.7.9"
  }
 },
 "nbformat": 4,
 "nbformat_minor": 4
}
