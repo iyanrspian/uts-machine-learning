{
  "nbformat": 4,
  "nbformat_minor": 0,
  "metadata": {
    "colab": {
      "name": "UTS_177006057_LR.ipynb",
      "provenance": [],
      "collapsed_sections": []
    },
    "kernelspec": {
      "display_name": "Python 3",
      "language": "python",
      "name": "python3"
    },
    "language_info": {
      "codemirror_mode": {
        "name": "ipython",
        "version": 3
      },
      "file_extension": ".py",
      "mimetype": "text/x-python",
      "name": "python",
      "nbconvert_exporter": "python",
      "pygments_lexer": "ipython3",
      "version": "3.7.9"
    }
  },
  "cells": [
    {
      "cell_type": "markdown",
      "metadata": {
        "id": "uzEfI-JFuieg"
      },
      "source": [
        "**N-01 LINEAR REGRESSION (SLR AND MLR)**\n",
        "\n",
        " - Prediksi kematian selama pengobatan\n",
        " - Sumber dataset dari ***Open Data Bantul***"
      ]
    },
    {
      "cell_type": "code",
      "metadata": {
        "id": "k7loG7R-atvQ"
      },
      "source": [
        "# Import library\n",
        "import numpy as np\n",
        "import pandas as pd\n",
        "import matplotlib.pyplot as plt"
      ],
      "execution_count": 1,
      "outputs": []
    },
    {
      "cell_type": "code",
      "metadata": {
        "colab": {
          "base_uri": "https://localhost:8080/",
          "height": 195
        },
        "id": "Qh2bmq_QbYZz",
        "outputId": "e6cd7dda-3d7d-4239-e0f0-2d63e41ddc10"
      },
      "source": [
        "# Import dataset\n",
        "link = 'https://raw.githubusercontent.com/iyanrspian/uts-machine-learning/main/cure-success-rate-tb.csv'\n",
        "data = pd.read_csv(link)\n",
        "data.head()"
      ],
      "execution_count": 2,
      "outputs": [
        {
          "output_type": "execute_result",
          "data": {
            "text/html": [
              "<div>\n",
              "<style scoped>\n",
              "    .dataframe tbody tr th:only-of-type {\n",
              "        vertical-align: middle;\n",
              "    }\n",
              "\n",
              "    .dataframe tbody tr th {\n",
              "        vertical-align: top;\n",
              "    }\n",
              "\n",
              "    .dataframe thead th {\n",
              "        text-align: right;\n",
              "    }\n",
              "</style>\n",
              "<table border=\"1\" class=\"dataframe\">\n",
              "  <thead>\n",
              "    <tr style=\"text-align: right;\">\n",
              "      <th></th>\n",
              "      <th>puskesmas</th>\n",
              "      <th>kecamatan</th>\n",
              "      <th>cure_rate</th>\n",
              "      <th>succese_rate</th>\n",
              "      <th>kematian_selama_pengobatan</th>\n",
              "    </tr>\n",
              "  </thead>\n",
              "  <tbody>\n",
              "    <tr>\n",
              "      <th>0</th>\n",
              "      <td>Srandakan</td>\n",
              "      <td>SRANDAKAN</td>\n",
              "      <td>60</td>\n",
              "      <td>60</td>\n",
              "      <td>1</td>\n",
              "    </tr>\n",
              "    <tr>\n",
              "      <th>1</th>\n",
              "      <td>Sanden</td>\n",
              "      <td>SANDEN</td>\n",
              "      <td>75</td>\n",
              "      <td>75</td>\n",
              "      <td>1</td>\n",
              "    </tr>\n",
              "    <tr>\n",
              "      <th>2</th>\n",
              "      <td>Kretek</td>\n",
              "      <td>KRETEK</td>\n",
              "      <td>100</td>\n",
              "      <td>100</td>\n",
              "      <td>0</td>\n",
              "    </tr>\n",
              "    <tr>\n",
              "      <th>3</th>\n",
              "      <td>Pundong</td>\n",
              "      <td>PUNDONG</td>\n",
              "      <td>70</td>\n",
              "      <td>70</td>\n",
              "      <td>1</td>\n",
              "    </tr>\n",
              "    <tr>\n",
              "      <th>4</th>\n",
              "      <td>Bambanglipuro</td>\n",
              "      <td>BAMBANGLIPURO</td>\n",
              "      <td>80</td>\n",
              "      <td>80</td>\n",
              "      <td>1</td>\n",
              "    </tr>\n",
              "  </tbody>\n",
              "</table>\n",
              "</div>"
            ],
            "text/plain": [
              "       puskesmas      kecamatan  ...  succese_rate  kematian_selama_pengobatan\n",
              "0      Srandakan      SRANDAKAN  ...            60                           1\n",
              "1         Sanden         SANDEN  ...            75                           1\n",
              "2         Kretek         KRETEK  ...           100                           0\n",
              "3        Pundong        PUNDONG  ...            70                           1\n",
              "4  Bambanglipuro  BAMBANGLIPURO  ...            80                           1\n",
              "\n",
              "[5 rows x 5 columns]"
            ]
          },
          "metadata": {
            "tags": []
          },
          "execution_count": 2
        }
      ]
    },
    {
      "cell_type": "markdown",
      "metadata": {
        "id": "jGyQ6XIcHM7l"
      },
      "source": [
        "A. Simple Linear Regresion"
      ]
    },
    {
      "cell_type": "code",
      "metadata": {
        "colab": {
          "base_uri": "https://localhost:8080/",
          "height": 195
        },
        "id": "ixRFAsinlLZy",
        "outputId": "9d08b258-4bcf-479b-805d-b37551c50f4b"
      },
      "source": [
        "# Update dataset yang akan diperlukan saja untuk SLR\n",
        "data_slr = pd.read_csv(link, usecols=['succese_rate', 'kematian_selama_pengobatan'])\n",
        "data_slr.tail()"
      ],
      "execution_count": 3,
      "outputs": [
        {
          "output_type": "execute_result",
          "data": {
            "text/html": [
              "<div>\n",
              "<style scoped>\n",
              "    .dataframe tbody tr th:only-of-type {\n",
              "        vertical-align: middle;\n",
              "    }\n",
              "\n",
              "    .dataframe tbody tr th {\n",
              "        vertical-align: top;\n",
              "    }\n",
              "\n",
              "    .dataframe thead th {\n",
              "        text-align: right;\n",
              "    }\n",
              "</style>\n",
              "<table border=\"1\" class=\"dataframe\">\n",
              "  <thead>\n",
              "    <tr style=\"text-align: right;\">\n",
              "      <th></th>\n",
              "      <th>succese_rate</th>\n",
              "      <th>kematian_selama_pengobatan</th>\n",
              "    </tr>\n",
              "  </thead>\n",
              "  <tbody>\n",
              "    <tr>\n",
              "      <th>22</th>\n",
              "      <td>57</td>\n",
              "      <td>78</td>\n",
              "    </tr>\n",
              "    <tr>\n",
              "      <th>23</th>\n",
              "      <td>89</td>\n",
              "      <td>88</td>\n",
              "    </tr>\n",
              "    <tr>\n",
              "      <th>24</th>\n",
              "      <td>100</td>\n",
              "      <td>0</td>\n",
              "    </tr>\n",
              "    <tr>\n",
              "      <th>25</th>\n",
              "      <td>100</td>\n",
              "      <td>0</td>\n",
              "    </tr>\n",
              "    <tr>\n",
              "      <th>26</th>\n",
              "      <td>100</td>\n",
              "      <td>0</td>\n",
              "    </tr>\n",
              "  </tbody>\n",
              "</table>\n",
              "</div>"
            ],
            "text/plain": [
              "    succese_rate  kematian_selama_pengobatan\n",
              "22            57                          78\n",
              "23            89                          88\n",
              "24           100                           0\n",
              "25           100                           0\n",
              "26           100                           0"
            ]
          },
          "metadata": {
            "tags": []
          },
          "execution_count": 3
        }
      ]
    },
    {
      "cell_type": "code",
      "metadata": {
        "id": "txjxNup1e_SA",
        "colab": {
          "base_uri": "https://localhost:8080/"
        },
        "outputId": "6bea6b85-5bee-4aa1-f203-02c4c729f708"
      },
      "source": [
        "# Membuat variabel X, y dan split data (training & testing) dengan porsi 80:20\n",
        "from sklearn.linear_model import LinearRegression\n",
        "from sklearn.model_selection import train_test_split\n",
        "\n",
        "X = data_slr['succese_rate'].values.reshape(-1,1)\n",
        "y = data_slr['kematian_selama_pengobatan'].values.reshape(-1,1)\n",
        "X_train, X_test, y_train, y_test = train_test_split(X, y, test_size = 0.2)\n",
        "\n",
        "# Membuat object Linear Regression dan Training Model\n",
        "lin_reg = LinearRegression()\n",
        "lin_reg.fit(X_train, y_train)"
      ],
      "execution_count": 4,
      "outputs": [
        {
          "output_type": "execute_result",
          "data": {
            "text/plain": [
              "LinearRegression(copy_X=True, fit_intercept=True, n_jobs=None, normalize=False)"
            ]
          },
          "metadata": {
            "tags": []
          },
          "execution_count": 4
        }
      ]
    },
    {
      "cell_type": "code",
      "metadata": {
        "colab": {
          "base_uri": "https://localhost:8080/"
        },
        "id": "L8Wd8xXxmY8n",
        "outputId": "d27c9ed9-f7f1-4d8d-d3db-e4539c63b225"
      },
      "source": [
        "# Menghitung mean, standard deviation dan variance\n",
        "result_slr = data_slr.describe().loc[['mean', 'std']]\n",
        "result_slr.loc['variance'] = result_slr.loc['std']**2\n",
        "print(result_slr)"
      ],
      "execution_count": 5,
      "outputs": [
        {
          "output_type": "stream",
          "text": [
            "          succese_rate  kematian_selama_pengobatan\n",
            "mean         79.962963                   37.444444\n",
            "std          18.984774                   39.998397\n",
            "variance    360.421652                 1599.871795\n"
          ],
          "name": "stdout"
        }
      ]
    },
    {
      "cell_type": "code",
      "metadata": {
        "colab": {
          "base_uri": "https://localhost:8080/"
        },
        "id": "lh0t7jXhmr4i",
        "outputId": "b0c66241-e9f3-4825-a70f-ebe47c465079"
      },
      "source": [
        "# Menghitung covariance dan coeffisient of correlation\n",
        "print(\"'Covariance'\\n\\n\", data_slr.cov())\n",
        "print(\"\\n'Coeffisient of Correlation - Pearson Method'\\n\\n\", data_slr.corr(method=\"pearson\"))"
      ],
      "execution_count": 6,
      "outputs": [
        {
          "output_type": "stream",
          "text": [
            "'Covariance'\n",
            "\n",
            "                             succese_rate  kematian_selama_pengobatan\n",
            "succese_rate                  360.421652                 -445.482906\n",
            "kematian_selama_pengobatan   -445.482906                 1599.871795\n",
            "\n",
            "'Coeffisient of Correlation - Pearson Method'\n",
            "\n",
            "                             succese_rate  kematian_selama_pengobatan\n",
            "succese_rate                    1.000000                   -0.586655\n",
            "kematian_selama_pengobatan     -0.586655                    1.000000\n"
          ],
          "name": "stdout"
        }
      ]
    },
    {
      "cell_type": "code",
      "metadata": {
        "colab": {
          "base_uri": "https://localhost:8080/"
        },
        "id": "3caaa3T4l7kb",
        "outputId": "63e3fcac-e08f-4d8e-c5d3-05d4b34ab5b6"
      },
      "source": [
        "# Mencari tahu nilai slope/koefisien (m) dan intercept (b)\n",
        "print(lin_reg.coef_)\n",
        "print(lin_reg.intercept_)"
      ],
      "execution_count": 7,
      "outputs": [
        {
          "output_type": "stream",
          "text": [
            "[[-1.0232951]]\n",
            "[121.05289472]\n"
          ],
          "name": "stdout"
        }
      ]
    },
    {
      "cell_type": "code",
      "metadata": {
        "colab": {
          "base_uri": "https://localhost:8080/"
        },
        "id": "wQoWUwYnmE1O",
        "outputId": "3b29b485-60bf-4753-fd8f-c09f778b71dc"
      },
      "source": [
        "# Mencari tahu accuracy score dari model, menggunakan testing data yang sudah displit sebelumnya.\n",
        "accuracy = lin_reg.score(X_test, y_test)\n",
        "print(\"\\nAccuracy score :\", str(round(accuracy, 2)*100) + '%')"
      ],
      "execution_count": 8,
      "outputs": [
        {
          "output_type": "stream",
          "text": [
            "\n",
            "Accuracy score : 74.0%\n"
          ],
          "name": "stdout"
        }
      ]
    },
    {
      "cell_type": "code",
      "metadata": {
        "colab": {
          "base_uri": "https://localhost:8080/"
        },
        "id": "I3sT9YsemKfo",
        "outputId": "12c6a9bb-b07b-4237-d4cb-3814c3c0b93d"
      },
      "source": [
        "# Prediksi dengan nilai cure_rate sebagai berikut\n",
        "print(\"[63] =\", lin_reg.predict([[63]]))\n",
        "print(\"[59] =\", lin_reg.predict([[59]]))\n",
        "print(\"[71] =\", lin_reg.predict([[71]]))"
      ],
      "execution_count": 9,
      "outputs": [
        {
          "output_type": "stream",
          "text": [
            "[63] = [[56.58530321]]\n",
            "[59] = [[60.67848362]]\n",
            "[71] = [[48.39894238]]\n"
          ],
          "name": "stdout"
        }
      ]
    },
    {
      "cell_type": "code",
      "metadata": {
        "colab": {
          "base_uri": "https://localhost:8080/",
          "height": 295
        },
        "id": "thvsqve4nhvX",
        "outputId": "ff3e3b04-0af9-4cb7-a827-e74a816f1ea8"
      },
      "source": [
        "# Visualisasi (train set)\n",
        "y_predict = lin_reg.predict(X_train)\n",
        "plt.scatter(X_train, y_train)\n",
        "plt.plot(X_train, y_predict, color='red')\n",
        "plt.title('Rasio kematian karena TB (Training Set)')\n",
        "plt.xlabel('succese_rate')\n",
        "plt.ylabel('kematian_selama_pengobatan')\n",
        "plt.show()"
      ],
      "execution_count": 10,
      "outputs": [
        {
          "output_type": "display_data",
          "data": {
            "image/png": "[encoded data removed]",
            "text/plain": [
              "<Figure size 432x288 with 1 Axes>"
            ]
          },
          "metadata": {
            "tags": [],
            "needs_background": "light"
          }
        }
      ]
    },
    {
      "cell_type": "code",
      "metadata": {
        "colab": {
          "base_uri": "https://localhost:8080/",
          "height": 295
        },
        "id": "M9vaT89AHM7n",
        "outputId": "9cee0f04-6a57-43a5-a99c-ae3597ff0b34"
      },
      "source": [
        "# Visualisasi (test set)\n",
        "y_predict = lin_reg.predict(X_test)\n",
        "plt.scatter(X_test, y_test)\n",
        "plt.plot(X_test, y_predict, color='red')\n",
        "plt.title('Rasio kematian karena TB (Test Set)')\n",
        "plt.xlabel('succese_rate')\n",
        "plt.ylabel('kematian_selama_pengobatan')\n",
        "plt.show()"
      ],
      "execution_count": 11,
      "outputs": [
        {
          "output_type": "display_data",
          "data": {
            "image/png": "[encoded data removed]",
            "text/plain": [
              "<Figure size 432x288 with 1 Axes>"
            ]
          },
          "metadata": {
            "tags": [],
            "needs_background": "light"
          }
        }
      ]
    },
    {
      "cell_type": "markdown",
      "metadata": {
        "id": "R2TTRvpqHM7n"
      },
      "source": [
        "B. Multiple Linear Regression"
      ]
    },
    {
      "cell_type": "code",
      "metadata": {
        "colab": {
          "base_uri": "https://localhost:8080/",
          "height": 195
        },
        "id": "8Ac5aH3MHM7n",
        "outputId": "a23387e9-c2f4-4b29-de7f-24cee287fddc"
      },
      "source": [
        "# Update dataset yang akan diperlukan saja untuk MLR\n",
        "data_mlr = pd.read_csv(link, usecols=['cure_rate', 'succese_rate', 'kematian_selama_pengobatan'])\n",
        "data_mlr.head()"
      ],
      "execution_count": 12,
      "outputs": [
        {
          "output_type": "execute_result",
          "data": {
            "text/html": [
              "<div>\n",
              "<style scoped>\n",
              "    .dataframe tbody tr th:only-of-type {\n",
              "        vertical-align: middle;\n",
              "    }\n",
              "\n",
              "    .dataframe tbody tr th {\n",
              "        vertical-align: top;\n",
              "    }\n",
              "\n",
              "    .dataframe thead th {\n",
              "        text-align: right;\n",
              "    }\n",
              "</style>\n",
              "<table border=\"1\" class=\"dataframe\">\n",
              "  <thead>\n",
              "    <tr style=\"text-align: right;\">\n",
              "      <th></th>\n",
              "      <th>cure_rate</th>\n",
              "      <th>succese_rate</th>\n",
              "      <th>kematian_selama_pengobatan</th>\n",
              "    </tr>\n",
              "  </thead>\n",
              "  <tbody>\n",
              "    <tr>\n",
              "      <th>0</th>\n",
              "      <td>60</td>\n",
              "      <td>60</td>\n",
              "      <td>1</td>\n",
              "    </tr>\n",
              "    <tr>\n",
              "      <th>1</th>\n",
              "      <td>75</td>\n",
              "      <td>75</td>\n",
              "      <td>1</td>\n",
              "    </tr>\n",
              "    <tr>\n",
              "      <th>2</th>\n",
              "      <td>100</td>\n",
              "      <td>100</td>\n",
              "      <td>0</td>\n",
              "    </tr>\n",
              "    <tr>\n",
              "      <th>3</th>\n",
              "      <td>70</td>\n",
              "      <td>70</td>\n",
              "      <td>1</td>\n",
              "    </tr>\n",
              "    <tr>\n",
              "      <th>4</th>\n",
              "      <td>80</td>\n",
              "      <td>80</td>\n",
              "      <td>1</td>\n",
              "    </tr>\n",
              "  </tbody>\n",
              "</table>\n",
              "</div>"
            ],
            "text/plain": [
              "   cure_rate  succese_rate  kematian_selama_pengobatan\n",
              "0         60            60                           1\n",
              "1         75            75                           1\n",
              "2        100           100                           0\n",
              "3         70            70                           1\n",
              "4         80            80                           1"
            ]
          },
          "metadata": {
            "tags": []
          },
          "execution_count": 12
        }
      ]
    },
    {
      "cell_type": "code",
      "metadata": {
        "id": "Ro0TtUbSHM7n"
      },
      "source": [
        "# Menentukan variabel x,y dan splitting dataset menjadi train dan test set (80:20)\n",
        "Xs = data_mlr[['cure_rate', 'succese_rate']].values\n",
        "ys = data_mlr['kematian_selama_pengobatan'].values\n",
        "Xs_train, Xs_test, ys_train, ys_test = train_test_split(Xs, ys, test_size = 0.2)"
      ],
      "execution_count": 13,
      "outputs": []
    },
    {
      "cell_type": "code",
      "metadata": {
        "colab": {
          "base_uri": "https://localhost:8080/"
        },
        "id": "_XfL23fmHM7n",
        "outputId": "672ab744-4a89-4ae2-b395-6042c7732f73"
      },
      "source": [
        "print(Xs)"
      ],
      "execution_count": 14,
      "outputs": [
        {
          "output_type": "stream",
          "text": [
            "[[ 60  60]\n",
            " [ 75  75]\n",
            " [100 100]\n",
            " [ 70  70]\n",
            " [ 80  80]\n",
            " [100 100]\n",
            " [100 100]\n",
            " [ 72  73]\n",
            " [ 77  78]\n",
            " [ 95  65]\n",
            " [100 100]\n",
            " [ 55  56]\n",
            " [ 66  67]\n",
            " [ 66  67]\n",
            " [100 100]\n",
            " [ 58  33]\n",
            " [ 76  92]\n",
            " [ 70  59]\n",
            " [100 100]\n",
            " [ 66  67]\n",
            " [ 85  71]\n",
            " [100 100]\n",
            " [ 78  57]\n",
            " [ 88  89]\n",
            " [100 100]\n",
            " [100 100]\n",
            " [100 100]]\n"
          ],
          "name": "stdout"
        }
      ]
    },
    {
      "cell_type": "code",
      "metadata": {
        "colab": {
          "base_uri": "https://localhost:8080/"
        },
        "id": "UdEla7RZHM7n",
        "outputId": "9b734cad-6d61-4294-b5fb-593d6d2a57b2"
      },
      "source": [
        "print(ys)"
      ],
      "execution_count": 15,
      "outputs": [
        {
          "output_type": "stream",
          "text": [
            "[ 1  1  0  1  1  0  0 72 77 95  0 77 83 66  0 58 92 70  0 66 85  0 78 88\n",
            "  0  0  0]\n"
          ],
          "name": "stdout"
        }
      ]
    },
    {
      "cell_type": "code",
      "metadata": {
        "colab": {
          "base_uri": "https://localhost:8080/"
        },
        "id": "kciGG6F5HM7o",
        "outputId": "155ee98f-5d2c-4007-a246-e746ed0560aa"
      },
      "source": [
        "# Mengetahui nilai mean, standar deviasi dan varians\n",
        "result_mlr = data_mlr.describe().loc[['mean', 'std']]\n",
        "result_mlr.loc['variance'] = result_mlr.loc['std']**2\n",
        "print(result_mlr)"
      ],
      "execution_count": 16,
      "outputs": [
        {
          "output_type": "stream",
          "text": [
            "           cure_rate  succese_rate  kematian_selama_pengobatan\n",
            "mean       82.851852     79.962963                   37.444444\n",
            "std        15.822826     18.984774                   39.998397\n",
            "variance  250.361823    360.421652                 1599.871795\n"
          ],
          "name": "stdout"
        }
      ]
    },
    {
      "cell_type": "code",
      "metadata": {
        "colab": {
          "base_uri": "https://localhost:8080/"
        },
        "id": "xhRAVRtrHM7o",
        "outputId": "89e211ef-d630-43e8-d08e-f49e75463e4f"
      },
      "source": [
        "# Mengetahui nilai covariance dan coeffisient of correlation\n",
        "print(\"'Covariance'\\n\\n\", data_mlr.cov())\n",
        "print(\"\\n'Coeffisient of Correlation - Pearson Method'\\n\\n\", data_mlr.corr(method=\"pearson\"))"
      ],
      "execution_count": 17,
      "outputs": [
        {
          "output_type": "stream",
          "text": [
            "'Covariance'\n",
            "\n",
            "                              cure_rate  ...  kematian_selama_pengobatan\n",
            "cure_rate                   250.361823  ...                 -331.008547\n",
            "succese_rate                260.763533  ...                 -445.482906\n",
            "kematian_selama_pengobatan -331.008547  ...                 1599.871795\n",
            "\n",
            "[3 rows x 3 columns]\n",
            "\n",
            "'Coeffisient of Correlation - Pearson Method'\n",
            "\n",
            "                             cure_rate  succese_rate  kematian_selama_pengobatan\n",
            "cure_rate                    1.000000      0.868075                   -0.523013\n",
            "succese_rate                 0.868075      1.000000                   -0.586655\n",
            "kematian_selama_pengobatan  -0.523013     -0.586655                    1.000000\n"
          ],
          "name": "stdout"
        }
      ]
    },
    {
      "cell_type": "code",
      "metadata": {
        "colab": {
          "base_uri": "https://localhost:8080/",
          "height": 88
        },
        "id": "VZn0m0QHHM7o",
        "outputId": "e42329ac-d887-417a-bd8c-84bbded9e9da"
      },
      "source": [
        "# Mengetahui nilai korelasi\n",
        "data_mlr.corr().style.background_gradient().set_precision(2)"
      ],
      "execution_count": 18,
      "outputs": [
        {
          "output_type": "execute_result",
          "data": {
            "text/html": [
              "<style  type=\"text/css\" >\n",
              "#T_7191ea0a_30bd_11eb_be0e_0242ac1c0002row0_col0,#T_7191ea0a_30bd_11eb_be0e_0242ac1c0002row1_col1,#T_7191ea0a_30bd_11eb_be0e_0242ac1c0002row2_col2{\n",
              "            background-color:  #023858;\n",
              "            color:  #f1f1f1;\n",
              "        }#T_7191ea0a_30bd_11eb_be0e_0242ac1c0002row0_col1{\n",
              "            background-color:  #034e7b;\n",
              "            color:  #f1f1f1;\n",
              "        }#T_7191ea0a_30bd_11eb_be0e_0242ac1c0002row0_col2{\n",
              "            background-color:  #f9f2f8;\n",
              "            color:  #000000;\n",
              "        }#T_7191ea0a_30bd_11eb_be0e_0242ac1c0002row1_col0{\n",
              "            background-color:  #034f7d;\n",
              "            color:  #f1f1f1;\n",
              "        }#T_7191ea0a_30bd_11eb_be0e_0242ac1c0002row1_col2,#T_7191ea0a_30bd_11eb_be0e_0242ac1c0002row2_col0,#T_7191ea0a_30bd_11eb_be0e_0242ac1c0002row2_col1{\n",
              "            background-color:  #fff7fb;\n",
              "            color:  #000000;\n",
              "        }</style><table id=\"T_7191ea0a_30bd_11eb_be0e_0242ac1c0002\" ><thead>    <tr>        <th class=\"blank level0\" ></th>        <th class=\"col_heading level0 col0\" >cure_rate</th>        <th class=\"col_heading level0 col1\" >succese_rate</th>        <th class=\"col_heading level0 col2\" >kematian_selama_pengobatan</th>    </tr></thead><tbody>\n",
              "                <tr>\n",
              "                        <th id=\"T_7191ea0a_30bd_11eb_be0e_0242ac1c0002level0_row0\" class=\"row_heading level0 row0\" >cure_rate</th>\n",
              "                        <td id=\"T_7191ea0a_30bd_11eb_be0e_0242ac1c0002row0_col0\" class=\"data row0 col0\" >1.00</td>\n",
              "                        <td id=\"T_7191ea0a_30bd_11eb_be0e_0242ac1c0002row0_col1\" class=\"data row0 col1\" >0.87</td>\n",
              "                        <td id=\"T_7191ea0a_30bd_11eb_be0e_0242ac1c0002row0_col2\" class=\"data row0 col2\" >-0.52</td>\n",
              "            </tr>\n",
              "            <tr>\n",
              "                        <th id=\"T_7191ea0a_30bd_11eb_be0e_0242ac1c0002level0_row1\" class=\"row_heading level0 row1\" >succese_rate</th>\n",
              "                        <td id=\"T_7191ea0a_30bd_11eb_be0e_0242ac1c0002row1_col0\" class=\"data row1 col0\" >0.87</td>\n",
              "                        <td id=\"T_7191ea0a_30bd_11eb_be0e_0242ac1c0002row1_col1\" class=\"data row1 col1\" >1.00</td>\n",
              "                        <td id=\"T_7191ea0a_30bd_11eb_be0e_0242ac1c0002row1_col2\" class=\"data row1 col2\" >-0.59</td>\n",
              "            </tr>\n",
              "            <tr>\n",
              "                        <th id=\"T_7191ea0a_30bd_11eb_be0e_0242ac1c0002level0_row2\" class=\"row_heading level0 row2\" >kematian_selama_pengobatan</th>\n",
              "                        <td id=\"T_7191ea0a_30bd_11eb_be0e_0242ac1c0002row2_col0\" class=\"data row2 col0\" >-0.52</td>\n",
              "                        <td id=\"T_7191ea0a_30bd_11eb_be0e_0242ac1c0002row2_col1\" class=\"data row2 col1\" >-0.59</td>\n",
              "                        <td id=\"T_7191ea0a_30bd_11eb_be0e_0242ac1c0002row2_col2\" class=\"data row2 col2\" >1.00</td>\n",
              "            </tr>\n",
              "    </tbody></table>"
            ],
            "text/plain": [
              "<pandas.io.formats.style.Styler at 0x7fc7ca001828>"
            ]
          },
          "metadata": {
            "tags": []
          },
          "execution_count": 18
        }
      ]
    },
    {
      "cell_type": "code",
      "metadata": {
        "colab": {
          "base_uri": "https://localhost:8080/"
        },
        "id": "YvuzNoIrHM7o",
        "outputId": "c7f94f0c-9d2c-4498-e494-028f717122e6"
      },
      "source": [
        "# Training model MLR pada train set\n",
        "regr = LinearRegression()\n",
        "regr.fit(Xs_train, ys_train)\n",
        "Yhat = regr.predict(Xs_test)\n",
        "print('Coefficient :', regr.coef_)\n",
        "print('Intercept   :', regr.intercept_)\n",
        "print('R-Squared   :', regr.score(Xs_test, ys_test))"
      ],
      "execution_count": 19,
      "outputs": [
        {
          "output_type": "stream",
          "text": [
            "Coefficient : [-0.42539796 -0.97260895]\n",
            "Intercept   : 155.22551297004452\n",
            "R-Squared   : -0.7139136083224844\n"
          ],
          "name": "stdout"
        }
      ]
    },
    {
      "cell_type": "code",
      "metadata": {
        "colab": {
          "base_uri": "https://localhost:8080/"
        },
        "id": "5pDGLOOoHM7p",
        "outputId": "5f8da5d6-9169-4468-ae8d-a0a834b8c27d"
      },
      "source": [
        "# Prediksi hasil test set\n",
        "ys_predict = regr.predict(Xs_test)\n",
        "np.set_printoptions(precision=1)\n",
        "print('Prediksi', regr.predict([[85,70]]))\n",
        "print('\\nPrediksi (y) :\\n\\n',np.concatenate((ys_predict.reshape(len(ys_predict),1), ys_test.reshape(len(ys_test),1)),1))"
      ],
      "execution_count": 20,
      "outputs": [
        {
          "output_type": "stream",
          "text": [
            "Prediksi [51.]\n",
            "\n",
            "Prediksi (y) :\n",
            "\n",
            " [[71.3  1. ]\n",
            " [15.4  0. ]\n",
            " [43.4  1. ]\n",
            " [46.6 77. ]\n",
            " [15.4  0. ]\n",
            " [15.4  0. ]]\n"
          ],
          "name": "stdout"
        }
      ]
    },
    {
      "cell_type": "code",
      "metadata": {
        "colab": {
          "base_uri": "https://localhost:8080/"
        },
        "id": "lukXVC-mHM7p",
        "outputId": "481a778a-419c-4abb-8e61-faca056d9983"
      },
      "source": [
        "# Metrics Score\n",
        "from sklearn import metrics\n",
        "print('Mean Absolute Error     :', metrics.mean_absolute_error(ys_test, ys_predict))\n",
        "print('Mean Squared Error      :', metrics.mean_squared_error(ys_test, ys_predict))\n",
        "print('Root Mean Squared Error :', np.sqrt(metrics.mean_squared_error(ys_test, ys_predict)))"
      ],
      "execution_count": 21,
      "outputs": [
        {
          "output_type": "stream",
          "text": [
            "Mean Absolute Error     : 31.566358958694327\n",
            "Mean Squared Error      : 1397.0776343395364\n",
            "Root Mean Squared Error : 37.37750171345774\n"
          ],
          "name": "stdout"
        }
      ]
    },
    {
      "cell_type": "code",
      "metadata": {
        "colab": {
          "base_uri": "https://localhost:8080/",
          "height": 279
        },
        "id": "uUnS7jQ-HM7p",
        "outputId": "c640a924-67d1-4f1a-a434-c1932cbe6175"
      },
      "source": [
        "# Visualisasi (test set)\n",
        "ys_train_predict = regr.predict(Xs_train)\n",
        "plt.scatter(ys_train, ys_train_predict, color = \"b\", marker = \"o\" )\n",
        "plt.plot([ys_train.min(), ys_train.max()], [ys_train.min(), ys_train.max()], color = 'g')\n",
        "plt.xlabel('Ratio')\n",
        "plt.ylabel('Prediction of Death')\n",
        "plt.show()"
      ],
      "execution_count": 22,
      "outputs": [
        {
          "output_type": "display_data",
          "data": {
            "image/png": "[encoded data removed]",
            "text/plain": [
              "<Figure size 432x288 with 1 Axes>"
            ]
          },
          "metadata": {
            "tags": [],
            "needs_background": "light"
          }
        }
      ]
    },
    {
      "cell_type": "code",
      "metadata": {
        "colab": {
          "base_uri": "https://localhost:8080/",
          "height": 281
        },
        "id": "0bo1xQ2CHM7p",
        "outputId": "2ee8e69a-0bfa-4255-96c4-42960b44af4a"
      },
      "source": [
        "# Visualisasi (test set)\n",
        "ys_test_predict = regr.predict(Xs_test)\n",
        "plt.scatter(ys_test, ys_test_predict, color = \"g\", marker = \"o\" )\n",
        "plt.plot([ys_test.min(), ys_test.max()], [ys_test.min(), ys_test.max()], color = 'r')\n",
        "plt.xlabel('Ratio')\n",
        "plt.ylabel('Prediction of Death')\n",
        "plt.show()"
      ],
      "execution_count": 23,
      "outputs": [
        {
          "output_type": "display_data",
          "data": {
            "image/png": "[encoded data removed]",
            "text/plain": [
              "<Figure size 432x288 with 1 Axes>"
            ]
          },
          "metadata": {
            "tags": [],
            "needs_background": "light"
          }
        }
      ]
    },
    {
      "cell_type": "code",
      "metadata": {
        "colab": {
          "base_uri": "https://localhost:8080/",
          "height": 300
        },
        "id": "tYnu4XDtHM7p",
        "outputId": "953cc50e-197d-4e62-e004-8a53ee2a0dce"
      },
      "source": [
        "# Visualisasi plot nilai aktual dan prediksi\n",
        "import seaborn as sns\n",
        "\n",
        "sns.kdeplot(Yhat, color = 'r', label = 'Predicted Values')\n",
        "sns.kdeplot(ys_test, color = 'b', label = 'Actual Values')\n",
        "plt.title('Actual vs Predicted Values', fontsize = 16)\n",
        "plt.xlabel('Values', fontsize = 12)\n",
        "plt.ylabel('Frequency', fontsize = 12)\n",
        "plt.legend(loc = 'upper right', fontsize = 10)\n",
        "plt.show()"
      ],
      "execution_count": 24,
      "outputs": [
        {
          "output_type": "display_data",
          "data": {
            "image/png": "[encoded data removed]",
            "text/plain": [
              "<Figure size 432x288 with 1 Axes>"
            ]
          },
          "metadata": {
            "tags": [],
            "needs_background": "light"
          }
        }
      ]
    },
    {
      "cell_type": "code",
      "metadata": {
        "id": "zPR8x5OxHM7q"
      },
      "source": [
        ""
      ],
      "execution_count": 24,
      "outputs": []
    }
  ]
}